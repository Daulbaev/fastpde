{
 "cells": [
  {
   "cell_type": "code",
   "execution_count": null,
   "metadata": {
    "collapsed": false,
    "slideshow": {
     "slide_type": "skip"
    }
   },
   "outputs": [],
   "source": [
    "from IPython.html.services.config import ConfigManager\n",
    "from IPython.utils.path import locate_profile\n",
    "cm = ConfigManager(profile_dir=locate_profile(get_ipython().profile))\n",
    "cm.update('livereveal', {\n",
    "              'theme': 'sky',\n",
    "              'transition': 'zoom',\n",
    "              'start_slideshow_at': 'selected',\n",
    "})"
   ]
  },
  {
   "cell_type": "markdown",
   "metadata": {
    "slideshow": {
     "slide_type": "slide"
    }
   },
   "source": [
    "#Lecture 10. Integral equations: discretization"
   ]
  },
  {
   "cell_type": "markdown",
   "metadata": {
    "slideshow": {
     "slide_type": "slide"
    }
   },
   "source": [
    "## Previous lecture \n",
    "- Introduction into the integral equations: the basic one, the concept of non-locality\n",
    "- Exterior and interior problems\n"
   ]
  },
  {
   "cell_type": "markdown",
   "metadata": {
    "slideshow": {
     "slide_type": "slide"
    }
   },
   "source": [
    "## Todays lecture\n",
    "- How to discretize: method of moments (MoM) and the Galerkin method\n",
    "- Computation of the singular integrals and exponential sums\n",
    "- Fast methods: the idea of the Barnes-Hut method"
   ]
  },
  {
   "cell_type": "markdown",
   "metadata": {
    "slideshow": {
     "slide_type": "slide"
    }
   },
   "source": [
    "## Books\n",
    "Books on integral equations\n",
    "\n",
    "- [Integral equation methods in scattering theory, D. Colton R. Kress](https://www.google.com/books?hl=ru&lr=&id=Z9qmAgAAQBAJ&oi=fnd&pg=PR1&dq=Colton+Kress+integral+equation&ots=0H3pcRZBUs&sig=0RzExxkaSor_Sv9Ss7HIX3cd864) \n",
    "- Sauter, Schwab, Boundary element methods (2011)"
   ]
  },
  {
   "cell_type": "markdown",
   "metadata": {},
   "source": [
    "## Method of moments (collocation method)\n",
    "Recall the basic integral equation from electrostatics:\n",
    "\n",
    "$$\\int_{\\Omega} \\frac{q(y) dy}{\\Vert x - y \\Vert} = f(x).$$\n",
    "\n",
    "1. First we mesh the domain in simplices.\n",
    "2. Then, we introduce the discrete **solution space** (piecewise-linear, piecewise-constant functions).\n",
    "3. Then, we approximate the solution as a linear combination of the basis functions\n",
    "  $$ q(y) = \\sum_i q_i \\phi_i(y).$$"
   ]
  },
  {
   "cell_type": "markdown",
   "metadata": {
    "slideshow": {
     "slide_type": "slide"
    }
   },
   "source": [
    "## MoM (continued)\n",
    "Then, we get the system of equations\n",
    "$$\n",
    "     f(x) = \\sum_i q_i \\int_{\\Pi_i} \\frac{\\phi_i}{\\Vert x - y \\Vert } dy.\n",
    "$$\n",
    "The <font color='red'> method of moments </font> is obtained by the selection of <font color='red'>\n",
    "</font> collocation points (aka staggerred grids), typically in the middle of triangles/rectangles"
   ]
  },
  {
   "cell_type": "markdown",
   "metadata": {
    "slideshow": {
     "slide_type": "slide"
    }
   },
   "source": [
    "## Piecewise-constant basis functions\n",
    "\n",
    "For a piecewise constant basis functions, we have\n",
    "\n",
    "$$\\int_{\\Pi} \\frac{1}{\\Vert x - y \\Vert} dy, $$\n",
    "\n",
    "where this is a two-dimensional integral."
   ]
  },
  {
   "cell_type": "markdown",
   "metadata": {
    "slideshow": {
     "slide_type": "slide"
    }
   },
   "source": [
    "## Computing the simplest integral\n",
    "We can actually compute the anti-derivative of the integral in question, but taking successive integrals\n",
    "\n",
    "$$\n",
    "   \\frac{1}{\\sqrt{x^2 + y^2}}\n",
    "$$\n",
    "\n",
    "\\begin{equation}\n",
    "\\begin{split}\n",
    "F(x, y) = \\int \\int \\frac{1}{\\sqrt{x^2 + y^2}} dx dy = \\\\\n",
    "-y + \n",
    "y \\log(x + \\sqrt{x^2 + y^2}) + x \\log(y + \\sqrt{x^2 + y^2}),\n",
    "\\end{split}\n",
    "\\end{equation}\n",
    "\n",
    "and the final integral is just \n",
    "$$\n",
    "   I(x_0, y_0, x_1, y_1) = F(x_0, y_0) + F(x_1, y_1) - F(x_0, y_1) - F(x_1, y_0),\n",
    "$$\n",
    "\n",
    "(generalization of the Newton-Leibniz formula)"
   ]
  },
  {
   "cell_type": "code",
   "execution_count": null,
   "metadata": {
    "collapsed": false,
    "slideshow": {
     "slide_type": "skip"
    }
   },
   "outputs": [],
   "source": [
    "import sympy\n",
    "from sympy import Symbol, sqrt\n",
    "x = Symbol('x', real=True)\n",
    "a = Symbol('a', real=True)\n",
    "y = Symbol('y', real=True)\n",
    "b = Symbol('b', real=True)\n",
    "r = sqrt(x ** 2 + y ** 2)\n",
    "sympy.init_printing()\n",
    "z = sympy.integrate(1/r, x, conds='none')\n",
    "print z"
   ]
  },
  {
   "cell_type": "markdown",
   "metadata": {
    "slideshow": {
     "slide_type": "slide"
    }
   },
   "source": [
    "## Nystrom method\n",
    "A Nystrom method is a popular choice: replace the integral by <font color='red'> quadrature </font>  \n",
    "\n",
    "probably by the simplest one: the rectangle formula, \n",
    "\n",
    "which in 1D has the form\n",
    "\n",
    "$$I(f) = \\sum_{k=0}^n w_k f(x_k), $$\n",
    "\n",
    "where $x_k$ is the uniform grid on the interval, $w_0 = w_n = h/2, \\quad w_k = h$ for all other $k$."
   ]
  },
  {
   "cell_type": "markdown",
   "metadata": {
    "slideshow": {
     "slide_type": "slide"
    }
   },
   "source": [
    "## For our equation, it looks like\n",
    "\n",
    "  $$A_{ij} = \\frac{1} {\\Vert x_i - y_j \\Vert} h^2,$$\n",
    "  \n",
    "  the set $x_i$ can be called <font color='red'> receivers </font> and the set $y_j$ can be called <font color='red'> sources </font>;\n",
    "  \n",
    "  A typical way is to shift the grid by half-step, i.e. in 1D it will be\n",
    "  \n",
    "  $$\n",
    "  A_{ij} = \\frac{1}{|i-j| + \\frac{1}{2}}.\n",
    "  $$\n",
    "  By the way, do you remember, what is the rank of this matrix?"
   ]
  },
  {
   "cell_type": "markdown",
   "metadata": {
    "slideshow": {
     "slide_type": "slide"
    }
   },
   "source": [
    "## Galerkin method\n",
    "1. Collocation method gives non-symmetric matrices, even if the original operator was symmetric;\n",
    "2. Nystrom method adds logarithmic factor into the accuracy estimate\n",
    "3. Galerkin method is the method of choice in many cases"
   ]
  },
  {
   "cell_type": "markdown",
   "metadata": {
    "slideshow": {
     "slide_type": "slide"
    }
   },
   "source": [
    "## Galerkin method \n",
    "A Galerkin method is defined for an arbitrary linear (and even non-linear) equations\n",
    "\n",
    "$$\n",
    "    A u = f, \n",
    "$$\n",
    "\n",
    "you select the <font color='red'> test space </font> and <font color='red'> trial space </font>. \n",
    "\n",
    "For simplicity, let them be equal,\n",
    "\n",
    "i.e. \n",
    "$$\n",
    "   u = \\sum_i u_i \\phi_i,\n",
    "$$\n",
    "\n",
    "and \n",
    "\n",
    "$$A_{ij} = (A \\phi_i, \\phi_j) $$\n"
   ]
  },
  {
   "cell_type": "markdown",
   "metadata": {
    "slideshow": {
     "slide_type": "slide"
    }
   },
   "source": [
    "## Integrals in the Galerkin method\n",
    "We have to compute 4D integrals (here it is written for piecewise-constant functions)\n",
    "\n",
    "$$\n",
    "  A_{ij} = \\int_{\\Omega_i} \\int_{\\Omega_j}\\frac{1}{\\Vert x - y \\Vert} dx dy\n",
    "$$\n",
    "Analytic expression are cumbersome!\n"
   ]
  },
  {
   "cell_type": "markdown",
   "metadata": {
    "slideshow": {
     "slide_type": "slide"
    }
   },
   "source": [
    "## Semi-numerical method\n",
    "You can be **a little bit** smarter: approximate $1/r$ by something that can be well-integrated.  \n",
    "\n",
    "By a sum of separable functions!\n",
    "\n",
    "$$\\frac{1}{\\Vert x - y\\Vert } \\approx \\sum_{\\alpha=1}^r u_{\\alpha}(x) u_{\\alpha}(y)$$\n",
    "\n",
    "We have used the symmetry.\n",
    "\n",
    "But how to compute these functions $u_{\\alpha}$?  (why it is useful?)\n"
   ]
  },
  {
   "cell_type": "markdown",
   "metadata": {
    "slideshow": {
     "slide_type": "slide"
    }
   },
   "source": [
    "## Exponential sums\n",
    "\n",
    "There is an identity:\n",
    "\n",
    "$$\\frac{1}{\\sqrt{x}} = \\frac{1}{\\sqrt{\\pi}} \\int^{\\infty}_0 \\frac{e^{-px}}{\\sqrt{p}} dp.$$\n",
    "\n",
    "It can be very useful in separating variables.\n"
   ]
  },
  {
   "cell_type": "markdown",
   "metadata": {
    "slideshow": {
     "slide_type": "slide"
    }
   },
   "source": [
    "## A quadrature\n",
    "\n",
    "Suppose we have a quadrature for the integral:\n",
    "\n",
    "$$ \\frac{1}{\\sqrt{x}} = \\frac{1}{\\sqrt{\\pi}} \\int^{\\infty}_0 \\frac{e^{-px}}{\\sqrt{p}} dp. \\approx \\sum_{k} w_k e^{-p_k x}.$$\n",
    "\n",
    "Then put \n",
    "\n",
    "$$x := x^2 + y^2$$\n",
    "\n",
    "and we get the sum of <font color='red'> Gaussians </font> on the right."
   ]
  },
  {
   "cell_type": "markdown",
   "metadata": {},
   "source": [
    "## Sum of Gaussians\n",
    "\n",
    "$$\\frac{1}{r} \\approx \\sum_{k} w_k e^{-p_k (x^2 + y^2)},$$\n",
    "\n",
    "and the integrals reduce to the 1D integrals\n",
    "\n",
    "$$\n",
    "   \\int_a^b e^{-p_k x^2} dx, \n",
    "$$\n",
    "\n",
    "and this can be expressed via the <font color='red'> Error functions </font> (and there is a standard numpy erfc function)"
   ]
  },
  {
   "cell_type": "markdown",
   "metadata": {
    "slideshow": {
     "slide_type": "slide"
    }
   },
   "source": [
    "## But who you can approximate?\n",
    "\n",
    "We reduced the problem to the problem of creating a good quadrature rule for the integral\n",
    "\n",
    "$$\\int^{\\infty}_0 \\frac{e^{-px}}{\\sqrt{p}} dp$$\n",
    "\n",
    "You have to do the $x = e^t$ (why do we do so?) and we the new integral\n",
    "\n",
    "$$\n",
    "\\int^{\\infty}_{-\\infty} e^{-e^{t} x + t/2} dt\n",
    "$$\n",
    "\n",
    "and this integral is then approximate by **trapezoidal rule** $t_k = a_t + k h_t, \\quad h_t = (b_t - a_t)/K$\n",
    "\n",
    "\n",
    "The integral is doubly exponentially decaying, and also its Fourier transform is decaying exponentially fast.\n",
    "\n",
    "Thus, trapezoidal rule has exponential convergence in this setting"
   ]
  },
  {
   "cell_type": "markdown",
   "metadata": {
    "slideshow": {
     "slide_type": "slide"
    }
   },
   "source": [
    "A short demo..."
   ]
  },
  {
   "cell_type": "code",
   "execution_count": null,
   "metadata": {
    "collapsed": false,
    "slideshow": {
     "slide_type": "fragment"
    }
   },
   "outputs": [],
   "source": [
    "import numpy as np\n",
    "import math\n",
    "import matplotlib.pyplot as plt\n",
    "import seaborn as sns\n",
    "sns.set(style='ticks', palette='Set2')\n",
    "sns.despine()\n",
    "%matplotlib inline\n",
    "a = -10\n",
    "b = 20\n",
    "n = 5\n",
    "t = np.linspace(a, b, n)\n",
    "h = t[1] - t[0]\n",
    "w = np.ones(n) * h\n",
    "w[0] = h/2\n",
    "w[n-1] = h/2\n",
    "w = w * np.exp(0.5 * t)/np.sqrt(math.pi)\n",
    "ps = np.exp(t)\n",
    "x = np.linspace(0.1, 1)\n",
    "fun = 1.0/np.sqrt(x)\n",
    "appr = 0 * x\n",
    "for i in xrange(n):\n",
    "    appr = appr + w[i] * np.exp(-(x) * ps[i])\n",
    "#plt.plot(x, fun)\n",
    "ax = plt.subplot(1, 1, 1)\n",
    "ax.plot(x, appr - fun)\n",
    "#ax.set_title('Approximation error by %d Gaussians' % n)\n",
    "ax.set_title('Error')\n",
    "plt.tight_layout(.8)"
   ]
  },
  {
   "cell_type": "markdown",
   "metadata": {
    "slideshow": {
     "slide_type": "slide"
    }
   },
   "source": [
    "## A sidenote about fitting by sum of exponentials\n",
    "- Approximation of a given function by a sum of exponentials is a ill-posed problem\n",
    "- Original method by Prony (1795)\n",
    "- Recent work by [G. Beylkin, et. al, Approximation by exponential sums revisited](https://www.google.ru/url?sa=t&rct=j&q=&esrc=s&source=web&cd=2&cad=rja&uact=8&ved=0CCYQFjAB&url=http%3A%2F%2Famath.colorado.edu%2Fpub%2Fwavelets%2Fpapers%2FBEY-MON-2010.pdf&ei=Cok1VZHkJKLnygO7hYCgBw&usg=AFQjCNGRcxece5lCuy9N7oheTBOzOpcSYw&sig2=Rf3DPGBAMmYO4parmQXzFQ&bvm=bv.91071109,d.bGQ) "
   ]
  },
  {
   "cell_type": "markdown",
   "metadata": {
    "slideshow": {
     "slide_type": "slide"
    }
   },
   "source": [
    "## Efficient quadratures (papers)\n",
    "- C. Schwab,  S. Sauter [Efficient automatic quadrature in 3-d Galerkin BEM](http://citeseerx.ist.psu.edu/viewdoc/download?doi=10.1.1.45.4312&rep=rep1&type=pdf)\n",
    "- A. Polimeridis, Traianos V Yioultsis [On the direct evaluation of weakly singular integrals in Galerkin mixed potential integral equation formulations](http://ieeexplore.ieee.org/xpls/abs_all.jsp?arnumber=4618709)"
   ]
  },
  {
   "cell_type": "markdown",
   "metadata": {
    "slideshow": {
     "slide_type": "slide"
    }
   },
   "source": [
    "## Green functions and fundamental solutions\n",
    "\n",
    "Terminology:\n",
    "- A fundamental solution is a \"point charge\" in free space: no boundary conditions\n",
    "- Green function can be for the boundary conditions/layered media/etc. (i.e. \"inverse\" of the differential operator)"
   ]
  },
  {
   "cell_type": "markdown",
   "metadata": {
    "slideshow": {
     "slide_type": "slide"
    }
   },
   "source": [
    "## Fundamental solution: Helmholtz\n",
    "The Helmholtz equation has the form\n",
    "\n",
    "$$\\Delta u + k^2 u = f,$$\n",
    "\n",
    "and it describes the propagation of <font color='red'> scalar waves </font> (acoustic wave).  \n",
    "\n",
    "$k$ is called **wavenumber**.\n",
    "\n",
    "The fundamental solution (the one that gives $\\delta$-function after the application of the operator)  has the form\n",
    "\n",
    "$$K(r) = \\frac{\\exp(i k r)}{r}.$$\n",
    "\n",
    "So it oscillates."
   ]
  },
  {
   "cell_type": "markdown",
   "metadata": {
    "slideshow": {
     "slide_type": "slide"
    }
   },
   "source": [
    "## Laplace in 2D\n",
    "\n",
    "What is the fundamental solution to the Laplace equation in 2D?\n",
    "\n",
    "$$G(x, y) = \\log \\Vert x - y \\Vert.$$\n",
    "\n",
    "It plays a role in the theory of <font color='red'> conformal mappings </font>\n",
    "\n",
    "Helmholtz in 2D is solved by the <font color='red'> Hankel function </font>"
   ]
  },
  {
   "cell_type": "markdown",
   "metadata": {
    "slideshow": {
     "slide_type": "slide"
    }
   },
   "source": [
    "## Stokes problem\n",
    "Stokes equation define the laminar flow in low Reynolds number regime:\n",
    "\n",
    "\\begin{equation}\n",
    "\\begin{split}\n",
    "- \\nabla p + \\mu \\Delta v = -F \\delta(r) \\\\\n",
    " \\nabla \\cdot p = 0\n",
    "\\end{split}\n",
    "\\end{equation}\n"
   ]
  },
  {
   "cell_type": "markdown",
   "metadata": {
    "slideshow": {
     "slide_type": "skip"
    }
   },
   "source": [
    "## Maxwell equations\n",
    "\n",
    "$$\n",
    "\\begin{split}\n",
    "\\nabla \\times H = \\frac{\\partial D}{\\partial t} + J, \\\\\\quad \\nabla \\times E = -\\frac{\\partial B}{\\partial t}, \\quad \\nabla \\cdot D =  \\rho, \\quad \\nabla \\cdot B = 0. \\\\\n",
    "D = \\varepsilon E, \\quad H = \\mu B.\n",
    "\\end{split}\n",
    "$$"
   ]
  },
  {
   "cell_type": "markdown",
   "metadata": {
    "slideshow": {
     "slide_type": "slide"
    }
   },
   "source": [
    "## How to make it fast\n",
    "\n",
    "The memory is $\\mathcal{O}(N^2)$, the complexity is $\\mathcal{O}(N^3)$.  \n",
    "\n",
    "Need to make it $\\mathcal{O}(N \\log N)$ both in memory and complexity of matrix-by-vector product."
   ]
  },
  {
   "cell_type": "markdown",
   "metadata": {
    "slideshow": {
     "slide_type": "slide"
    }
   },
   "source": [
    "## Matrix structure\n",
    "The integral operator matrix:\n",
    "\n",
    "1. Matrix is dense\n",
    "2. Matrix is not of low-rank\n",
    "3. Some blocks are of low rank!"
   ]
  },
  {
   "cell_type": "markdown",
   "metadata": {
    "slideshow": {
     "slide_type": "slide"
    }
   },
   "source": [
    "A demo"
   ]
  },
  {
   "cell_type": "code",
   "execution_count": null,
   "metadata": {
    "collapsed": false,
    "slideshow": {
     "slide_type": "fragment"
    }
   },
   "outputs": [],
   "source": [
    "import numpy as np\n",
    "import matplotlib.pyplot as plt\n",
    "n = 128\n",
    "a = [[1.0/(abs(i - j) + 0.5) for i in xrange(n)] for j in xrange(n)]\n",
    "a = np.array(a)\n",
    "\n",
    "\n",
    "\n",
    "plt.plot(np.linalg.svd(a)[1])"
   ]
  },
  {
   "cell_type": "code",
   "execution_count": null,
   "metadata": {
    "collapsed": false,
    "slideshow": {
     "slide_type": "fragment"
    }
   },
   "outputs": [],
   "source": [
    "#And for a block:\n",
    "plt.semilogy(np.linalg.svd(a[:n/2, n/2:])[1])"
   ]
  },
  {
   "cell_type": "markdown",
   "metadata": {
    "slideshow": {
     "slide_type": "slide"
    }
   },
   "source": [
    "## Off-diagonal blocks correspond to \"far\" interaction\n",
    "\n",
    "$$y_j = \\sum_{j} a_{ij} q_j,$$\n",
    "\n",
    "and the sources are separated from the receivers. \n",
    "\n",
    "This gives a hint: separated geometrically -- low-rank property."
   ]
  },
  {
   "cell_type": "markdown",
   "metadata": {
    "slideshow": {
     "slide_type": "slide"
    }
   },
   "source": [
    "## Geometric separability and low rank\n",
    "\n",
    "\n",
    "For $\\frac{1}{r}$ we can have the exponential sums to separate variables, if $r > r_0$. \n",
    "\n",
    "What happens, if $r_0$ goes to zero?\n",
    "\n",
    "The separability property vanishes!"
   ]
  },
  {
   "cell_type": "markdown",
   "metadata": {
    "slideshow": {
     "slide_type": "slide"
    }
   },
   "source": [
    "## One-dimensional case\n",
    "\n",
    "\n",
    "$$A = \\begin{bmatrix} A_{11} & A_{12} \\\\ A_{21} & A_{22}\\end{bmatrix},$$\n",
    "\n",
    "where $A_{12}$ and $A_{21}$ correspond to the \"far\" interaction, and are of low-rank.\n",
    "\n",
    "Remember, that a low-rank matrix can be factored as \n",
    "\n",
    "$$A = U V^{\\top},$$\n",
    "\n",
    "where $U$ is $n \\times r$, $V$ is $m \\times r$, "
   ]
  },
  {
   "cell_type": "markdown",
   "metadata": {
    "slideshow": {
     "slide_type": "slide"
    }
   },
   "source": [
    "## Memory estimate\n",
    "\n",
    "Thus we have \n",
    "\n",
    "$$Memory(n) = 2 Memory(n/2) + 2 n/2 r$$\n",
    "\n",
    "and that gives \n",
    "\n",
    "$Memory(n) = 2 n/2 * r + 4 n/4 * r + \\ldots = \\mathcal{O}( n \\log n)$\n",
    "\n",
    "Similar estimates hold for the matrix-by-vector product procedure (why do we care about that?)"
   ]
  },
  {
   "cell_type": "markdown",
   "metadata": {
    "slideshow": {
     "slide_type": "slide"
    }
   },
   "source": [
    "## Two-dimensional case\n",
    "In two dimension, the splitting is different."
   ]
  },
  {
   "cell_type": "code",
   "execution_count": null,
   "metadata": {
    "collapsed": false,
    "slideshow": {
     "slide_type": "slide"
    }
   },
   "outputs": [],
   "source": [
    "#from numba import autojit\n",
    "n = 32\n",
    "t = np.linspace(0, 1, n)\n",
    "h = t[1] - t[0]\n",
    "x_src, y_src  = np.meshgrid(t, t)\n",
    "x_src, y_src = x_src.flatten(), y_src.flatten()\n",
    "x_rec, y_rec = x_src + h * 0.5, y_src + 0.5 * h\n",
    "N = n * n\n",
    "mat = np.zeros((N, N))\n",
    "#@autojit(nopython=True)\n",
    "def compute_mat(mat, x_src, y_src, x_rec, y_rec):\n",
    "    for i in range(N):\n",
    "        for j in xrange(N):\n",
    "            r = (x_src[i] - x_rec[j]) ** 2 + (y_src[i] - y_rec[j]) ** 2\n",
    "            mat[i, j] = 1.0/np.sqrt(r)\n",
    "            \n",
    " \n",
    "\n",
    "%timeit compute_mat(mat, x_src, y_src, x_rec, y_rec)\n",
    "#(x_rec - x_src)/h"
   ]
  },
  {
   "cell_type": "markdown",
   "metadata": {
    "slideshow": {
     "slide_type": "fragment"
    }
   },
   "source": [
    "Plotting the singular values of the off-diagonal block shows that they do not decay that fast.  \n",
    "\n",
    "Why? Because they correspond to the non-separated sets of sources and receivers."
   ]
  },
  {
   "cell_type": "code",
   "execution_count": null,
   "metadata": {
    "collapsed": false,
    "slideshow": {
     "slide_type": "fragment"
    }
   },
   "outputs": [],
   "source": [
    "plt.semilogy(np.linalg.svd(mat[:N/2, N/2:])[1])"
   ]
  },
  {
   "cell_type": "markdown",
   "metadata": {
    "slideshow": {
     "slide_type": "slide"
    }
   },
   "source": [
    "## The general scheme\n",
    "- Construct **trees** for the sources and receivers\n",
    "- Check the sets for geometric separability.\n",
    "- If they are not separated, call the recursion\n",
    "- Otherwise, do low-rank approximation.\n",
    "\n",
    "This is the basis for the **Barnes-Hut** method (original work in astronomy)  \n",
    "\n",
    "and the preliminary approach to the <font color='red'> Fast Multipole Method </font>, proposed by Greengard and Rokhlin"
   ]
  },
  {
   "cell_type": "code",
   "execution_count": null,
   "metadata": {
    "collapsed": false,
    "slideshow": {
     "slide_type": "skip"
    }
   },
   "outputs": [],
   "source": [
    "from IPython.core.display import HTML\n",
    "def css_styling():\n",
    "    styles = open(\"./styles/alex.css\", \"r\").read()\n",
    "    return HTML(styles)\n",
    "css_styling()"
   ]
  }
 ],
 "metadata": {
  "celltoolbar": "Slideshow",
  "kernelspec": {
   "display_name": "Python 2",
   "language": "python",
   "name": "python2"
  },
  "language_info": {
   "codemirror_mode": {
    "name": "ipython",
    "version": 2
   },
   "file_extension": ".py",
   "mimetype": "text/x-python",
   "name": "python",
   "nbconvert_exporter": "python",
   "pygments_lexer": "ipython2",
   "version": "2.7.9"
  }
 },
 "nbformat": 4,
 "nbformat_minor": 0
}
