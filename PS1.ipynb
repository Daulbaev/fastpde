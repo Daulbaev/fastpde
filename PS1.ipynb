{
 "cells": [
  {
   "cell_type": "markdown",
   "metadata": {},
   "source": [
    "# Fast PDE/IE course, Skoltech, Spring 2015"
   ]
  },
  {
   "cell_type": "markdown",
   "metadata": {},
   "source": [
    "## Problem Set 1"
   ]
  },
  {
   "cell_type": "markdown",
   "metadata": {},
   "source": [
    "### Modeling a Cantilever Beam"
   ]
  },
  {
   "cell_type": "markdown",
   "metadata": {},
   "source": [
    "Consider a beam fixed at one end (called a [cantilever](http://en.wikipedia.org/wiki/Cantilever) beam) as shown here:\n",
    "<img src='fig/beam_basic.png'>"
   ]
  },
  {
   "cell_type": "markdown",
   "metadata": {},
   "source": [
    "<a id=\"eq\"></a>\n",
    "Its deflection from the equilibrium position is described by the deflection $u = u(x)$ which satisfies the boundary-value problem for the [Euler-Bernoulli equation](http://en.wikipedia.org/wiki/Euler%E2%80%93Bernoulli_beam_theory)\n",
    "$$ (EIu'')'' = 0$$\n",
    "$$u(0)=0 ~~~ u'(0)=0$$\n",
    "$$u''(L)=0 ~~~ (EIu'')'(L)=P$$\n",
    "\n",
    "where $P$ is the force applied to the beam’s end, $E$ is the (constant) elastic modulus (a material’s property) and I is the second moment of the area of the cross-section. If the cross-section is a rectangle with height $~H = H(x)$ and the width is $W$ then  $~I = I(x) = WH(x)^3/3$ (see more details in Wikipedia under the link above)."
   ]
  },
  {
   "cell_type": "markdown",
   "metadata": {},
   "source": [
    "### Proposition 1.\n",
    "\n",
    "Assume that $~I = I(x)$ is constant.\n",
    "\n",
    "* **(a)** $$\\frac{u(x − 2h) − 4u(x − h) + 6u(x) − 4u(x + h) + u(x + 2h)}{h^4}$$  approximates  $u''''(x)$  with the second order.\n",
    "\n",
    "* **(b)** Consider a grid $~h = L/N~$,  $~xi = h(i − 0.5)~$,  $~i = 0,..., N + 2~$. The last line of ([1](#eq)) can be approximated by \n",
    "$$u(L+1.5h)−u(L+0.5h)−u(L−0.5h)+u(L−1.5h) = 0$$\n",
    "$$u(L + 1.5h) − 3u(L + 0.5h) + 3u(L − 0.5h) − u(L − 1.5h) = h^3 P/(EI)$$.\n"
   ]
  },
  {
   "cell_type": "markdown",
   "metadata": {},
   "source": [
    "###Problem 1 (60pt)\n",
    "\n",
    "Assume that $~I = I(x)$ is constant and the mesh is chosen as in Proposition 1.\n",
    "\n",
    "* **(10pt)** Prove part (a) of Proposition 1.\n",
    "\n",
    "\n",
    "* **(10pt)** Formulate the finite difference problem approximating ([1](#eq)) with the second order.\n",
    "\n",
    "\n",
    "* **(10pt)** Write a code that implements this finite difference problem by constructing an $(N + 3) × (N + 3)$ matrix $A_h$ and the right-hand side vector $b_h$.\n",
    "\n",
    "\n",
    "* **(10pt)** Given parameters $E = 2.5GPa/m^2$, $H = 7mm$, $W = 3mm$, $L = 25cm$, $P = 200gm$, $h = L/20$ use your code to compute the solution $u_h = (u_h(−0.5h), . . . , u_h(L + 1.5h))$. What is the computed deflection of the right end (let us denote it as $u_h(L)$ with a slight abuse of notation)? (Don’t know what the [abuse of notation](http://en.wikipedia.org/wiki/Abuse_of_notation) is?)\n",
    "\n",
    "\n",
    "*  (Optional.) Approximate the values $u(0), u(h), . . . , u(L)$. Upload your answer to Stellar as a text file named *PS1P1.txt* with numbers separated by a newline. The first one who does it correctly will get a non-material bonus.\n",
    "\n",
    "\n",
    "* **(10pt)** Find the solution $u$ in the analytic form. Compare $~u(L)~$ with $~u_h(L)~$ for $~h = 25,50,100~$. As you increase $~h~$ by a factor or 2, by what factor does the difference $~|u_h(L) − u(L)|~$ decrease?\n",
    "\n",
    "\n",
    "* **(10pt)** Compute $~λ_{\\min}(A_h)~$ and $~λ_{\\max}(A_h)~$ for $~h = 25, 50, 100$. As you increase h by a factor or 2, by what factor does $cond(A_h)$ increase? Can you find, approximately, for what $h$ your code computes the value $~|u_h(L)−u(L)|~$ most accurately? Explain why your code’s answers are worse if $~h~$ is less than this value and if $~h~$ is larger than this value."
   ]
  },
  {
   "cell_type": "markdown",
   "metadata": {},
   "source": [
    "###Problem 2 (40pt)\n",
    "\n",
    "Let all parameters be the same as in Problem 1 except for $H(x) = (3 − 2x/L)(2 + \\cos(18πx/L)) · 6mm$.\n",
    "\n",
    "* **(10pt)** Formulate the corresponding finite difference problem.\n",
    "\n",
    "\n",
    "* **(10pt)** Write the corresponding code.\n",
    "\n",
    "\n",
    "* **(10pt)** Assuming that the beam fractures at a point where the modulus of the quantity $\\sigma(x) = u''(x)H(x)$ is largest, find the point where the beam should fracture. Give details on how you compute it (e.g., what value of h you used).\n",
    "\n",
    "\n",
    "* **(10pt)** Give an example of a smooth function $~H = H(x)$, satisfying $~3mm ≤ H ≤ 15mm$ everywhere, such that the beam fractures at $~x ≈ L/3$.\n"
   ]
  },
  {
   "cell_type": "markdown",
   "metadata": {},
   "source": [
    "### Problem 3 (bonus problem)\n",
    "\n",
    "Suppose all parameters, except $H=H(x)$ are the same. You need to find $H(x)$ such that\n",
    "\n",
    "* The load that can be applied to the beam before it fractures is maximal subject to the constraints below:\n",
    "* The total material is fixed: $\\int_{0}^L H(x) dx = 70mm^2$\n",
    "* $3mm \\leq H \\leq 15mm$\n",
    "\n",
    "Take $n=100$. Upload 101 values $u(0), u(1/n), . . . , u(1)$ to Stellar as a text file named *PS1P3.txt* with numbers separated by a newline.\n",
    "\n",
    "**IMPORANT**: some parameters like the material volume of $70{mm}^2$ or $n=100$ can be changed, latest by the end of the week. You will be updated by email.\n"
   ]
  },
  {
   "cell_type": "code",
   "execution_count": 1,
   "metadata": {
    "collapsed": false,
    "run_control": {
     "breakpoint": false,
     "read_only": false
    }
   },
   "outputs": [
    {
     "data": {
      "text/html": [
       "<link href='http://fonts.googleapis.com/css?family=Fenix' rel='stylesheet' type='text/css'>\n",
       "<link href='http://fonts.googleapis.com/css?family=Alegreya+Sans:100,300,400,500,700,800,900,100italic,300italic,400italic,500italic,700italic,800italic,900italic' rel='stylesheet' type='text/css'>\n",
       "<link href='http://fonts.googleapis.com/css?family=Source+Code+Pro:300,400' rel='stylesheet' type='text/css'>\n",
       "<style>\n",
       "    @font-face {\n",
       "        font-family: \"Computer Modern\";\n",
       "        src: url('http://mirrors.ctan.org/fonts/cm-unicode/fonts/otf/cmunss.otf');\n",
       "    }\n",
       "    div.cell{\n",
       "        /*width:80%;*/\n",
       "        /*margin-left:auto !important;\n",
       "        margin-right:auto;*/\n",
       "    }\n",
       "    h1 {\n",
       "        font-family: 'Alegreya Sans', sans-serif;\n",
       "    }\n",
       "    h2 {\n",
       "        font-family: 'Fenix', serif;\n",
       "    }\n",
       "    h3{\n",
       "\t\tfont-family: 'Fenix', serif;\n",
       "        margin-top:12px;\n",
       "        margin-bottom: 3px;\n",
       "       }\n",
       "\th4{\n",
       "\t\tfont-family: 'Fenix', serif;\n",
       "       }\n",
       "    h5 {\n",
       "        font-family: 'Alegreya Sans', sans-serif;\n",
       "    }\t   \n",
       "    div.text_cell_render{\n",
       "        font-family: 'Alegreya Sans',Computer Modern, \"Helvetica Neue\", Arial, Helvetica, Geneva, sans-serif;\n",
       "        line-height: 1.2;\n",
       "        font-size: 160%;\n",
       "        /*width:70%;*/\n",
       "        /*margin-left:auto;*/\n",
       "        margin-right:auto;\n",
       "    }\n",
       "    .CodeMirror{\n",
       "            font-family: \"Source Code Pro\";\n",
       "\t\t\tfont-size: 90%;\n",
       "    }\n",
       "/*    .prompt{\n",
       "        display: None;\n",
       "    }*/\n",
       "    .text_cell_render h1 {\n",
       "        font-weight: 200;\n",
       "        font-size: 50pt;\n",
       "\t\tline-height: 110%;\n",
       "        color:#CD2305;\n",
       "        margin-bottom: 0.5em;\n",
       "        margin-top: 0.5em;\n",
       "        display: block;\n",
       "    }\t\n",
       "    .text_cell_render h5 {\n",
       "        font-weight: 300;\n",
       "        font-size: 16pt;\n",
       "        color: #CD2305;\n",
       "        font-style: italic;\n",
       "        margin-bottom: .5em;\n",
       "        margin-top: 0.5em;\n",
       "        display: block;\n",
       "    }\n",
       "    \n",
       "    li {\n",
       "        line-height: 110%;\n",
       "    }\n",
       "    .warning{\n",
       "        color: rgb( 240, 20, 20 )\n",
       "        }  \n",
       "</style>\n",
       "<script>\n",
       "    MathJax.Hub.Config({\n",
       "                        TeX: {\n",
       "                           extensions: [\"AMSmath.js\"]\n",
       "                           },\n",
       "                tex2jax: {\n",
       "                    inlineMath: [ ['$','$'], [\"\\\\(\",\"\\\\)\"] ],\n",
       "                    displayMath: [ ['$$','$$'], [\"\\\\[\",\"\\\\]\"] ]\n",
       "                },\n",
       "                displayAlign: 'center', // Change this to 'center' to center equations.\n",
       "                \"HTML-CSS\": {\n",
       "                    styles: {'.MathJax_Display': {\"margin\": 4}}\n",
       "                }\n",
       "        });\n",
       "</script>\n"
      ],
      "text/plain": [
       "<IPython.core.display.HTML object>"
      ]
     },
     "execution_count": 1,
     "metadata": {},
     "output_type": "execute_result"
    }
   ],
   "source": [
    "from IPython.core.display import HTML\n",
    "def css_styling():\n",
    "    styles = open(\"./styles/custom.css\", \"r\").read()\n",
    "    return HTML(styles)\n",
    "css_styling()"
   ]
  },
  {
   "cell_type": "code",
   "execution_count": null,
   "metadata": {
    "collapsed": true,
    "run_control": {
     "breakpoint": false,
     "read_only": false
    }
   },
   "outputs": [],
   "source": []
  }
 ],
 "metadata": {
  "celltoolbar": "Slideshow",
  "kernelspec": {
   "display_name": "Python 2",
   "language": "python",
   "name": "python2"
  },
  "language_info": {
   "codemirror_mode": {
    "name": "ipython",
    "version": 2
   },
   "file_extension": ".py",
   "mimetype": "text/x-python",
   "name": "python",
   "nbconvert_exporter": "python",
   "pygments_lexer": "ipython2",
   "version": "2.7.8"
  }
 },
 "nbformat": 4,
 "nbformat_minor": 0
}
