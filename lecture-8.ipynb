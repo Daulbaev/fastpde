{
 "cells": [
  {
   "cell_type": "markdown",
   "metadata": {
    "slideshow": {
     "slide_type": "slide"
    }
   },
   "source": [
    "#Lecture 7. Multigrid"
   ]
  },
  {
   "cell_type": "markdown",
   "metadata": {
    "slideshow": {
     "slide_type": "slide"
    }
   },
   "source": [
    "## Motivation\n",
    "Elliptic problems are typically **ill-conditioned**.\n",
    "For instance, complexity to solve $N\\times N$ linear system from the Poisson equation:\n",
    "* Sparse LU <font color='red'>$\\mathcal{O}(N^{3/2})$ </font>\n",
    "* Direct FFT solver  <font color='red'>$\\mathcal{O}(N \\log N)$</font> (works only in rectangular domains)\n",
    "* Iterative methods <font color='red'>$\\mathcal{O}(Nk)$</font>, k is number of iterations\n",
    " * $k=\\mathcal{O}(N^2)$ - Jacobi or Gauss-Seidel\n",
    " * $k = \\mathcal{O}(N)$ - Kyrlov subspace methods (cg, gmres)\n",
    "* **Multigrid method** <font color='red'>$\\mathcal{O}(N)$</font>. Optimal complexity\n",
    "\n",
    "The trick is that multigrid uses additional information about the grid structure"
   ]
  },
  {
   "cell_type": "markdown",
   "metadata": {
    "slideshow": {
     "slide_type": "slide"
    }
   },
   "source": [
    "## Idea\n",
    "Iterative methods <font color='red'> smooth error </font> (works for **any method**, inculinding Jacobi, Gauss-Seidel or ILU).\n",
    "\n",
    "As a result, error can be approximated on a coarser grid and so on **recursively**."
   ]
  },
  {
   "cell_type": "markdown",
   "metadata": {
    "slideshow": {
     "slide_type": "slide"
    }
   },
   "source": [
    "## A bit of history\n",
    "* Was initially proposed by Fedorenko (1961) (многосеточный метод)\n",
    "* Became popular after works of Brandt (1973, 1977)"
   ]
  },
  {
   "cell_type": "markdown",
   "metadata": {
    "slideshow": {
     "slide_type": "slide"
    }
   },
   "source": [
    "## Convergence issues and  smoothing property of iterative methods\n",
    "\n",
    "In the currect section we will show that iterative methods does not have optimal complexity, but have some nice property (smoothing) that will help us to build an $\\mathcal{O}(N)$ method (multigrid)."
   ]
  },
  {
   "cell_type": "markdown",
   "metadata": {
    "slideshow": {
     "slide_type": "slide"
    }
   },
   "source": [
    "#####  Model problem \n",
    "\n",
    "Consider a discretized 1D diffusion equation with zero boundary conditions\n",
    "\n",
    "$$A_h u_h = f_h,$$ \n",
    "\n",
    "where\n",
    "$$\n",
    "A_h = \\frac{1}{h^2} \n",
    "\\begin{pmatrix}\n",
    "2 & -1 \\\\\n",
    "-1 & 2 & -1 \\\\\n",
    "& -1 & \\ddots & \\ddots \\\\\n",
    "& & \\ddots & \\ddots & -1 \\\\\n",
    "& & & -1 & 2\n",
    "\\end{pmatrix}\\quad \\text{of size $N\\times N$, $\\ $ $ h = N^{-1}$}\n",
    "$$\n",
    "As we know so far $$\\lambda_k(A_h) = \\frac{4}{h^2} \\sin^2 \\frac{\\pi kh}{2}>0, \\quad \\text{cond}(A_h) = \\frac{\\lambda_\\max}{\\lambda_\\min} = \\mathcal{O}\\left(\\frac{1}{h^2}\\right)$$"
   ]
  },
  {
   "cell_type": "markdown",
   "metadata": {
    "slideshow": {
     "slide_type": "slide"
    }
   },
   "source": [
    "##### Iterative process\n",
    "Consider Jacobi iterative process with relaxation parameter $\\tau$ (fixed-point iteration with diagonal as a perconditioner):\n",
    "\n",
    "$$\n",
    "u^{(k+1)} = u^{(k)} - \\tau \\ D^{-1}(A_h u^{(k)} - f_h), \\quad D = \\text{diag}(A_h)\\equiv \\frac{2}{h^2} I. \n",
    "$$"
   ]
  },
  {
   "cell_type": "markdown",
   "metadata": {
    "slideshow": {
     "slide_type": "slide"
    }
   },
   "source": [
    "##### Convergence. Bad news\n",
    "Let us show that the number of iterations required to get accuracy $\\epsilon$ is $\\mathcal{O}(N^2 \\ln \\epsilon)$.\n",
    "\n",
    "For the error $e^{(k)} = u^{(k)} - u_h$ we have\n",
    "$$\n",
    "e^{(k+1)} = \\left(I - \\frac{\\tau h^2}{2}A_h \\right) e^{(k)}.\n",
    "$$"
   ]
  },
  {
   "cell_type": "markdown",
   "metadata": {
    "slideshow": {
     "slide_type": "fragment"
    }
   },
   "source": [
    "It is known that (**show why**) the optimal tau is $\\frac{\\tau_{\\text{opt}}h^2}{2} = \\frac{2}{\\lambda_{\\min} + \\lambda_{\\max}}$.\n",
    "\n",
    "Therefore,\n",
    "$ \\|e^{(k)}\\|_2 \\leqslant \\left(\\frac{1 - \\lambda_\\min/\\lambda_\\max}{1 + \\lambda_\\min/\\lambda_\\max}\\right)^{k}\\|e^{(0)}\\|_2 = \\left(\\frac{1 - \\mathcal{O}(N^{-2})}{1 + \\mathcal{O}(N^{-2})}\\right)^{k}\\|e^{(0)}\\|_2\\leqslant \\epsilon \\quad \\Longrightarrow$ <font color='red'>$\\quad k = \\mathcal{O}(N^2 \\ln \\epsilon)$</font>."
   ]
  },
  {
   "cell_type": "markdown",
   "metadata": {
    "slideshow": {
     "slide_type": "fragment"
    }
   },
   "source": [
    "For conjugate gradients $ \\|e^{(k)}\\|_2 \\leqslant \\left(\\frac{1 - \\sqrt{\\lambda_\\min/\\lambda_\\max}}{1 + \\sqrt{\\lambda_\\min/\\lambda_\\max}}\\right)^{k}\\|e^{(0)}\\|_2 \\quad \\Longrightarrow$ <font color='red'>$\\quad k = \\mathcal{O}(N \\ln \\epsilon)$</font>.\n",
    "\n",
    "The overall algorithm consists of $k$ matvecs $\\quad \\Longrightarrow \\quad$ the total complexity is $\\mathcal{O}(N k)$."
   ]
  },
  {
   "cell_type": "markdown",
   "metadata": {
    "slideshow": {
     "slide_type": "slide"
    }
   },
   "source": [
    "**Convergence example**\n",
    "\n",
    "The following example shows that even for $N = 20$ Jacobi method requires $1000$ iterations to reach $\\epsilon=10^{-4}$"
   ]
  },
  {
   "cell_type": "code",
   "execution_count": 5,
   "metadata": {
    "collapsed": false,
    "scrolled": true,
    "slideshow": {
     "slide_type": "-"
    }
   },
   "outputs": [
    {
     "data": {
      "text/plain": [
       "<matplotlib.text.Text at 0x10fa550d0>"
      ]
     },
     "execution_count": 5,
     "metadata": {},
     "output_type": "execute_result"
    },
    {
     "data": {
      "image/png": "[encoded data removed]",
      "text/plain": [
       "<matplotlib.figure.Figure at 0x10f94ba90>"
      ]
     },
     "metadata": {},
     "output_type": "display_data"
    }
   ],
   "source": [
    "%matplotlib inline\n",
    "import numpy as np\n",
    "import matplotlib.pyplot as plt\n",
    "import scipy as sp\n",
    "import scipy.sparse\n",
    "import scipy.sparse.linalg as spla\n",
    "import scipy\n",
    "from scipy.sparse import csc_matrix\n",
    "\n",
    "n = 20\n",
    "ex = np.ones(n);\n",
    "lp1 = n**2*sp.sparse.spdiags(np.vstack((ex,  -2*ex, ex)), [-1, 0, 1], n, n, 'csr'); \n",
    "rhs = np.ones(n)\n",
    "ev1, vec = spla.eigs(lp1, k=2, which='LR')\n",
    "ev2, vec = spla.eigs(lp1, k=2, which='SR')\n",
    "lam_max = ev1[0]\n",
    "lam_min = ev2[0]\n",
    "\n",
    "tau_opt = 2.0/(lam_max + lam_min)\n",
    "\n",
    "niters = 1000\n",
    "x = np.zeros(n)\n",
    "res_all = []\n",
    "for i in xrange(niters):\n",
    "    rr = lp1.dot(x) - rhs\n",
    "    x = x - tau_opt * rr\n",
    "    res_all.append(np.linalg.norm(rr))\n",
    "    \n",
    "#Convergence of an ordinary Richardson (with optimal parameter)\n",
    "plt.semilogy(res_all)\n",
    "plt.xlabel('Iteration number')\n",
    "plt.ylabel('error')"
   ]
  },
  {
   "cell_type": "markdown",
   "metadata": {
    "slideshow": {
     "slide_type": "slide"
    }
   },
   "source": [
    "##### Smoothing property. Good news \n",
    "Iterative processes remove high-frequency components in the error! Let us show that.\n",
    "\n",
    "From the previous slide\n",
    "$$\n",
    "e^{(k+1)} = T e^{(k)} = T^{k} e^{(0)}, \\quad \\text{where}\\quad T = \\left(I - \\frac{\\tau h^2}{2}A_h \\right).\n",
    "$$"
   ]
  },
  {
   "cell_type": "markdown",
   "metadata": {
    "slideshow": {
     "slide_type": "fragment"
    }
   },
   "source": [
    "Let $$T \\psi_i = \\mu_i \\psi_i,$$ \n",
    "where $\\psi_i$ and $\\mu_i$, $i=1,\\dots,N$ are eigenvectors and eigenvalues of $T$.\n",
    "Since $\\{\\psi_i\\}$ is orthonormal basis (**explain why**), we have\n",
    "$$e^{(0)} = \\sum_{i=1}^N c_i \\psi_i,$$\n",
    "with some coefficients $c_i$. Therefore,\n",
    "$$\n",
    "e^{(k+1)} = T^{k} e^{(0)} = \\sum_{i} c_i\\lambda_i^k \\psi_i\n",
    "$$"
   ]
  },
  {
   "cell_type": "markdown",
   "metadata": {
    "slideshow": {
     "slide_type": "fragment"
    }
   },
   "source": [
    "Now the goal is to show that $\\lambda_i^k$ decays fast enough with respect to $k$ when, for instance, $i>N/2$ (high-frequecy part of the spectrum). Indeed, \n",
    "$$\n",
    "| \\lambda_i(T)| = |1 - \\frac{h^2}{4}\\lambda_k(A_h)|<({\\bf\\text{show why}})<\\frac{1}{2},\\quad \\text{when}\\quad k>N/2 \n",
    "$$\n",
    "So, the high-frequency part of the error ($k>N/2$) becomes at least <font color='red'> 2 times smaller on each iteration </font>."
   ]
  },
  {
   "cell_type": "code",
   "execution_count": 21,
   "metadata": {
    "collapsed": false,
    "slideshow": {
     "slide_type": "slide"
    }
   },
   "outputs": [
    {
     "data": {
      "image/png": "[encoded data removed]",
      "text/plain": [
       "<matplotlib.figure.Figure at 0x10f500e90>"
      ]
     },
     "metadata": {},
     "output_type": "display_data"
    }
   ],
   "source": [
    "%matplotlib inline\n",
    "import numpy as np\n",
    "import matplotlib.pyplot as plt\n",
    "import scipy as sp\n",
    "import scipy.sparse\n",
    "import scipy.sparse.linalg as spla\n",
    "import scipy\n",
    "from scipy.sparse import csc_matrix\n",
    "\n",
    "n = 80\n",
    "ex = np.ones(n);\n",
    "lp1 = n**2 * sp.sparse.spdiags(np.vstack((ex,  -2*ex, ex)), [-1, 0, 1], n, n, 'csr'); \n",
    "rhs = np.ones(n)\n",
    "ev1, vec = spla.eigs(lp1, k=4, which='LR')\n",
    "ev2, vec = spla.eigs(lp1, k=4, which='SR')\n",
    "lam_max = ev1[0]\n",
    "lam_min = ev2[0]\n",
    "\n",
    "tau_opt = np.real(2.0/(lam_max + lam_min))\n",
    "\n",
    "sol = spla.spsolve(lp1, rhs)\n",
    "niters = 1000\n",
    "x = 0.2*np.random.random(n) #random x0 to add high frequencies to the error\n",
    "err_all = []\n",
    "grid = np.linspace(0, 1, n)\n",
    "for i in xrange(niters):\n",
    "    rr = lp1.dot(x) - rhs\n",
    "    x = x - tau_opt * rr\n",
    "    err = spla.spsolve(lp1, rr)\n",
    "    err_all.append(err)\n",
    "init, = plt.plot(grid, err_all[0])\n",
    "smooth, = plt.plot(grid, err_all[200])\n",
    "plt.legend([init, smooth], ['No smoothing', '200 iterations'])\n",
    "\n",
    "#x = np.linspace(0, 1, n)\n",
    "#def set_cursor(i):\n",
    "#    plt.ylim(0, 1.1*np.max(err_all[0]))\n",
    "#    plt.plot(x, err_all[i])\n",
    "#    plt.xlabel('space')\n",
    "#    plt.ylabel('error[i]')\n",
    "#    plt.title('Error smoothing')\n",
    "#from IPython.html.widgets import interact\n",
    "#interact(set_cursor, i=(0, niters-1, 5))"
   ]
  },
  {
   "cell_type": "markdown",
   "metadata": {
    "slideshow": {
     "slide_type": "slide"
    }
   },
   "source": [
    "## Geometric Multigrid\n",
    "\n",
    "Now we know that in an iterative processes \n",
    "* High-frequecies (k>N/2) in error decay twice at each iteration \n",
    "* Low-frequencies in error decay really slow\n",
    "\n",
    "But, we can approximate **smooth error vector on coarser grids**!\n",
    "\n",
    "Equation on error: $A_h e_{h} = r_h $, where $r_h = f_h - A_h u$ is residual. Given $e_h$ we can simply get $u_h = e_h + u$"
   ]
  },
  {
   "cell_type": "markdown",
   "metadata": {
    "slideshow": {
     "slide_type": "slide"
    }
   },
   "source": [
    "##### A Two-Grid Cycle (almost multigrid :)) \n",
    "\n",
    "1. **Smoothing.** Do several iterations (say 2-3 Jacobi iterations) to reach $u$ with smooth $e_h = u - u_h$\n",
    "2. **Restriction.** Restrict the residual $r_h$ to the coarser grid $r_{2h} = Rr_h$\n",
    "3. Solve $A_{2h} e_{2h} = r_{2h}$\n",
    "4. **Prolongarion** (Interpolation). $e_h \\approx P e_{2h}$\n",
    "5. $u:= e_{h} + u$, then repeat from 1 if necesarry\n",
    "\n",
    "Here \n",
    "* $R$ - restriction matrix\n",
    "* $P$ - prolongation matrix"
   ]
  },
  {
   "cell_type": "markdown",
   "metadata": {
    "slideshow": {
     "slide_type": "fragment"
    }
   },
   "source": [
    "For the 1D case, N = 7:\n",
    "$$\n",
    "   P = \n",
    " \\frac{1}{2}\n",
    "\\begin{pmatrix}\n",
    "1& \\\\\n",
    "2& \\\\\n",
    "1& 1& \\\\\n",
    " & 2& \\\\ \n",
    " & 1& 1 \\\\\n",
    " &  & 2 \\\\ \n",
    " &  & 1\n",
    "\\end{pmatrix},\n",
    "\\quad\n",
    "R = \\frac{1}{2} P^{T}\n",
    "$$"
   ]
  },
  {
   "cell_type": "markdown",
   "metadata": {
    "slideshow": {
     "slide_type": "fragment"
    }
   },
   "source": [
    "In the 2D case:\n",
    "$$\n",
    " P_{2D} = P\\otimes P, \\quad R_{2D} = R\\otimes R\\equiv \\frac{1}{4}P_{2D}^{T}, \n",
    "$$\n",
    "which corresponds to the following stencils\n",
    "\n",
    "$$\n",
    "\\text{Restriction:}\\quad\n",
    "\\begin{bmatrix}\n",
    "  \\frac{1}{16} & \\frac{1}{8} & \\frac{1}{16} \\\\\n",
    "  \\frac{1}{8} & \\frac{1}{4} & \\frac{1}{8} \\\\\n",
    "  \\frac{1}{16} & \\frac{1}{8} & \\frac{1}{16} \n",
    "\\end{bmatrix}.\n",
    "\\quad\n",
    "\\text{Prolongation:} \\quad\n",
    "\\begin{bmatrix}\n",
    "  \\frac{1}{4} & \\frac{1}{2} & \\frac{1}{4} \\\\\n",
    "  \\frac{1}{2} & 1 & \\frac{1}{2} \\\\\n",
    "  \\frac{1}{4} & \\frac{1}{2} & \\frac{1}{4} \n",
    "\\end{bmatrix}.\n",
    "$$\n",
    "\n",
    "$A_{2h}$ can be chosen either as an operator on a coarser grid (from differetial formulation) or as Galerkin projection $R A_h P$."
   ]
  },
  {
   "cell_type": "markdown",
   "metadata": {
    "slideshow": {
     "slide_type": "slide"
    }
   },
   "source": [
    "#####  Finally... Multigrid\n",
    "\n",
    "Multigrid need not stop at two grids! \n",
    "\n",
    "To find error on $2h$ we can go to $4h$ and so on. However, there are several different ways to go through grid levels.\n",
    "\n",
    "<img width=\"700\" src=\"fig/mg-cycle.jpg\" />\n",
    "[<a href=\"http://cvsp.cs.ntua.gr/research/gac/\">source</a>]\n",
    "\n",
    "1. **V-cycle**. Straightforward generalization of the two-grid cycle\n",
    "2. **W-cycle**. On each coarse grid level V-cycle is called twice\n",
    "3. **F-cycle** (full multigrid, FMG). Starts from the coarsest grid. Then prolongates to the next level to get a good initial approximation to run V-cycle\n",
    "\n",
    "<!---\n",
    "4. **S-cycle** (sawtooth cycle). No smoothing during restriction. Then starts from the coarsest grid and does prolongation procedures as it was in the V-cycle\n",
    "-->\n",
    "\n",
    "**W-cycle** is typically superior to a **V-cycle**. At the same time the **F-cycle** is asymptotically better than $V$ or $W$."
   ]
  },
  {
   "cell_type": "markdown",
   "metadata": {
    "slideshow": {
     "slide_type": "slide"
    }
   },
   "source": [
    "##### Pseudocode (V- and W-cycles)\n",
    "\n",
    "```\n",
    "def MGM(l, u_old, rhs):\n",
    "\n",
    "    if l==0:    \n",
    "0.      u_new = solve(A0, rhs)     \n",
    "        \n",
    "    else (l>0):    \n",
    "1.      u = u_old\n",
    "        u=several iterations of smoother\n",
    "        \n",
    "2.      res = R (A_k * u - rhs)  (residual on a coarser grid)\n",
    "\n",
    "3.      e = 0 (initial guess for error)\n",
    "        for i = 1..gamma      #gamma=1 is V-cycle, gamma=2 is W-cycle\n",
    "            e = MGM(l-1, e, res)\n",
    "            \n",
    "4.      u_new = u + P e\n",
    "\n",
    "    return u_new\n",
    "```"
   ]
  },
  {
   "cell_type": "markdown",
   "metadata": {
    "slideshow": {
     "slide_type": "slide"
    }
   },
   "source": [
    "##### Complexity of one cycle\n",
    "\n",
    "Let $d$ be dimension of a problem. Then comutational cost of one cycle is\n",
    "* V-cycle: $\\mathcal{O} \\left(N (1+2^{-d}+2^{-2d} + 2^{-3d} + \\dots  )\\right) = \\mathcal{O} \\left(\\frac{N}{1 - 2^{-d}}\\right)$\n",
    "* F-cycle: $\\mathcal{O} \\left(\\frac{N}{1 - 2^{-d}} (1+2^{-d}+2^{-2d} + 2^{-3d} + \\dots  )\\right) = \\mathcal{O} \\left(\\frac{N}{(1 - 2^{-d})^2}\\right)$"
   ]
  },
  {
   "cell_type": "markdown",
   "metadata": {
    "slideshow": {
     "slide_type": "slide"
    }
   },
   "source": [
    "## Algebraic Multigrid\n",
    "\n",
    "What we have considered before is called **geometric multigrid** (GMG). \n",
    "\n",
    "There is an alternative **algebraic multigrid** (AMG), where only sparse matrix is given (with no information concerning a grid structure). Then the grids and operators have to be constructed **automatically**."
   ]
  },
  {
   "cell_type": "markdown",
   "metadata": {
    "slideshow": {
     "slide_type": "slide"
    }
   },
   "source": [
    "##### Why AMG?\n",
    "\n",
    "1. Difficult to build hierarchy of grid levels on **unstructured grids** (e.g. on irregular triangulation)\n",
    "2. Uniform coarsering with linear interpolation do not take into account operator structure. As a result, smoothers sometimes can not produce good approximation to be restricted on coarse grids. That is why geometric version may fail on\n",
    " * Poisson equation with **discontinuous coefficients**\n",
    " * **Skewed operators**\n",
    "3. Some problems are purely discrete with **no geometric background**\n",
    "4. AMG is **black-box**, so one does not need to know how to programm multigrid (AMG is more expensive than GMG though)"
   ]
  },
  {
   "cell_type": "markdown",
   "metadata": {
    "slideshow": {
     "slide_type": "slide"
    }
   },
   "source": [
    "##### AMG Idea\n",
    "#### Smooth vectors\n",
    "Vector $u$ is smooth if $\\|A u\\| \\approx \\|u\\|$. This is due to the fact that $A$ amplifies high-frequencies.\n",
    "\n",
    "####How to find neighboring points? \n",
    "Nodes $i$ and $j$ are said to be **strongly connected** if $A_{ij}$ is big enough (e.g. greater than $\\alpha A_{ii}$ say with $\\alpha = 0.1$ ).\n",
    "\n",
    "#### Coarse grid\n",
    "1. Remove all weak connections\n",
    "2. The fact that $i$ and $j$ are strongly connected means that $u_j$ strongly influences $u_i$. So, we do not need to have both $i$ and $j$ nodes in the coarse set."
   ]
  },
  {
   "cell_type": "markdown",
   "metadata": {
    "slideshow": {
     "slide_type": "slide"
    }
   },
   "source": [
    "##### PyAMG\n",
    "\n",
    "To install just run\n",
    "```\n",
    "conda install pyamg\n",
    "```"
   ]
  },
  {
   "cell_type": "code",
   "execution_count": 15,
   "metadata": {
    "collapsed": false,
    "slideshow": {
     "slide_type": "-"
    }
   },
   "outputs": [
    {
     "name": "stdout",
     "output_type": "stream",
     "text": [
      "  Detected a Hermitian matrix\n",
      "    maxiter = 400\n",
      "    iteration 1\n",
      "    iteration 2\n",
      "    iteration 3\n",
      "    iteration 4\n",
      "    iteration 5\n",
      "    iteration 6\n",
      "    iteration 7\n",
      "    iteration 8\n",
      "    iteration 9\n",
      "  Residual reduction ||r_k||/||r_0|| = 5.26e-08\n"
     ]
    }
   ],
   "source": [
    "import numpy as np  \n",
    "import pyamg\n",
    "\n",
    "n = 200\n",
    "A = pyamg.gallery.poisson((n, n), format='csr')   \n",
    "b = np.array(np.arange(A.shape[0]), dtype=float)\n",
    "x = pyamg.solve(A, b, verb=True, tol=1e-8)"
   ]
  },
  {
   "cell_type": "markdown",
   "metadata": {
    "slideshow": {
     "slide_type": "slide"
    }
   },
   "source": [
    "## Summary\n",
    "\n",
    "1. Multigrid is a strong tool to solve elliptic problems (but not limited to them!) with **optimal $\\mathcal{O}(N)$ complexity**\n",
    "2. Key idea: \n",
    "  * **smooth error** with iterative method\n",
    "  * smoothed error can be well approximated on **coarser grids**\n",
    "3. Sometimes it is not possible to use geometric interpretaion of grid hierarchy. In these cases one can use the **algebraic version**"
   ]
  },
  {
   "cell_type": "code",
   "execution_count": 1,
   "metadata": {
    "collapsed": false,
    "slideshow": {
     "slide_type": "skip"
    }
   },
   "outputs": [
    {
     "data": {
      "text/html": [
       "<link href='http://fonts.googleapis.com/css?family=Fenix' rel='stylesheet' type='text/css'>\n",
       "<link href='http://fonts.googleapis.com/css?family=Alegreya+Sans:100,300,400,500,700,800,900,100italic,300italic,400italic,500italic,700italic,800italic,900italic' rel='stylesheet' type='text/css'>\n",
       "<link href='http://fonts.googleapis.com/css?family=Source+Code+Pro:300,400' rel='stylesheet' type='text/css'>\n",
       "<style>\n",
       "    @font-face {\n",
       "        font-family: \"Computer Modern\";\n",
       "        src: url('http://mirrors.ctan.org/fonts/cm-unicode/fonts/otf/cmunss.otf');\n",
       "    }\n",
       "    div.cell{\n",
       "        /*width:80%;*/\n",
       "        /*margin-left:auto !important;\n",
       "        margin-right:auto;*/\n",
       "    }\n",
       "    h1 {\n",
       "        font-family: 'Alegreya Sans', sans-serif;\n",
       "    }\n",
       "    h2 {\n",
       "        font-family: 'Fenix', serif;\n",
       "    }\n",
       "    h3{\n",
       "\t\tfont-family: 'Fenix', serif;\n",
       "        margin-top:12px;\n",
       "        margin-bottom: 3px;\n",
       "       }\n",
       "\th4{\n",
       "\t\tfont-family: 'Fenix', serif;\n",
       "       }\n",
       "    h5 {\n",
       "        font-family: 'Alegreya Sans', sans-serif;\n",
       "    }\t   \n",
       "    div.text_cell_render{\n",
       "        font-family: 'Alegreya Sans',Computer Modern, \"Helvetica Neue\", Arial, Helvetica, Geneva, sans-serif;\n",
       "        line-height: 1.2;\n",
       "        font-size: 100%;\n",
       "        /*width:70%;*/\n",
       "        /*margin-left:auto;*/\n",
       "        margin-right:auto;\n",
       "    }\n",
       "    .CodeMirror{\n",
       "            font-family: \"Source Code Pro\";\n",
       "\t\t\tfont-size: 100%;\n",
       "\t\t\tline-height: 110%;\n",
       "    }\n",
       "/*    .prompt{\n",
       "        display: None;\n",
       "    }*/\n",
       "    .text_cell_render h1 {\n",
       "        font-weight: 200;\n",
       "        font-size: 50pt;\n",
       "\t\tline-height: 110%;\n",
       "        color:#CD2305;\n",
       "        margin-bottom: 0.5em;\n",
       "        margin-top: 0.5em;\n",
       "        display: block;\n",
       "    }\t\n",
       "    .text_cell_render h5 {\n",
       "        font-weight: 300;\n",
       "        font-size: 16pt;\n",
       "        color: #CD2305;\n",
       "        font-style: italic;\n",
       "        margin-bottom: .5em;\n",
       "        margin-top: 0.5em;\n",
       "        display: block;\n",
       "    }\n",
       "    \n",
       "    li {\n",
       "        line-height: 110%;\n",
       "    }\n",
       "    .warning{\n",
       "        color: rgb( 240, 20, 20 )\n",
       "        }  \n",
       "</style>\n",
       "<script>\n",
       "    MathJax.Hub.Config({\n",
       "                        TeX: {\n",
       "                           extensions: [\"AMSmath.js\"]\n",
       "                           },\n",
       "                tex2jax: {\n",
       "                    inlineMath: [ ['$','$'], [\"\\\\(\",\"\\\\)\"] ],\n",
       "                    displayMath: [ ['$$','$$'], [\"\\\\[\",\"\\\\]\"] ]\n",
       "                },\n",
       "                displayAlign: 'center', // Change this to 'center' to center equations.\n",
       "                \"HTML-CSS\": {\n",
       "                    styles: {'.MathJax_Display': {\"margin\": 4}}\n",
       "                }\n",
       "        });\n",
       "</script>\n"
      ],
      "text/plain": [
       "<IPython.core.display.HTML object>"
      ]
     },
     "execution_count": 1,
     "metadata": {},
     "output_type": "execute_result"
    }
   ],
   "source": [
    "from IPython.core.display import HTML\n",
    "def css_styling():\n",
    "    styles = open(\"./styles/alex.css\", \"r\").read()\n",
    "    return HTML(styles)\n",
    "css_styling()"
   ]
  }
 ],
 "metadata": {
  "celltoolbar": "Slideshow",
  "kernelspec": {
   "display_name": "Python 2",
   "language": "python",
   "name": "python2"
  },
  "language_info": {
   "codemirror_mode": {
    "name": "ipython",
    "version": 2
   },
   "file_extension": ".py",
   "mimetype": "text/x-python",
   "name": "python",
   "nbconvert_exporter": "python",
   "pygments_lexer": "ipython2",
   "version": "2.7.9"
  }
 },
 "nbformat": 4,
 "nbformat_minor": 0
}
