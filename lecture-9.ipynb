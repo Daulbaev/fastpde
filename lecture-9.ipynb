{
 "cells": [
  {
   "cell_type": "code",
   "execution_count": 4,
   "metadata": {
    "collapsed": false,
    "slideshow": {
     "slide_type": "skip"
    }
   },
   "outputs": [
    {
     "data": {
      "text/plain": [
       "{u'start_slideshow_at': 'selected', u'theme': 'sky', u'transition': 'zoom'}"
      ]
     },
     "execution_count": 4,
     "metadata": {},
     "output_type": "execute_result"
    }
   ],
   "source": [
    "from IPython.html.services.config import ConfigManager\n",
    "from IPython.utils.path import locate_profile\n",
    "cm = ConfigManager(profile_dir=locate_profile(get_ipython().profile))\n",
    "cm.update('livereveal', {\n",
    "              'theme': 'sky',\n",
    "              'transition': 'zoom',\n",
    "              'start_slideshow_at': 'selected',\n",
    "})"
   ]
  },
  {
   "cell_type": "markdown",
   "metadata": {
    "slideshow": {
     "slide_type": "slide"
    }
   },
   "source": [
    "#Lecture 8. Exterior problems and integral equations"
   ]
  },
  {
   "cell_type": "markdown",
   "metadata": {
    "slideshow": {
     "slide_type": "slide"
    }
   },
   "source": [
    "## Outline \n",
    "- All the previous lectures you struggled with PDEs.\n",
    "- PDEs are <font color='red'> local conservation laws </font>\n",
    "- That lead to sparse matrices\n",
    "- Integral equations represent <font color='red'> non-local equations </font> and can be <font color='red'> very efficient </font>"
   ]
  },
  {
   "cell_type": "markdown",
   "metadata": {
    "slideshow": {
     "slide_type": "slide"
    }
   },
   "source": [
    "## PDEs are local conservation laws\n",
    "\n",
    "PDE are local conservation laws, meaning that some quantity is \"locally\" conserved.\n",
    "\n",
    "$$\\frac{d}{dx} k(x) \\frac{d}{dx} c(x) = f.$$\n",
    "\n",
    "Many every-day life systems are of local structure \n",
    "(i.e. social networks, biochemical networks, graphs of all kinds)\n",
    "\n",
    "\n",
    "<font color='red'> But what is a \"philosophical meaning\" of the integral equation? </font>"
   ]
  },
  {
   "cell_type": "markdown",
   "metadata": {
    "slideshow": {
     "slide_type": "slide"
    }
   },
   "source": [
    "Example:  \n",
    "\n",
    "$$\\int_{\\Omega} \\frac{q(y)}{\\Vert x - y \\Vert } dy = f(x), \\quad x, y \\in \\Omega,$$  \n",
    "\n",
    "where $\\Omega$ is some volume, or surface, or line in 3D or 2D.\n"
   ]
  },
  {
   "cell_type": "markdown",
   "metadata": {
    "slideshow": {
     "slide_type": "slide"
    }
   },
   "source": [
    "## Philosophy of integral equations\n",
    "\n",
    "The main philosophy behind non-locality of the integral equations is:\n",
    "\n",
    "a small change in the right-hand side of \n",
    "\n",
    "$$\n",
    "   \\Delta u = f, \n",
    "$$\n",
    "\n",
    "gives a non-local change in the solution $u$!"
   ]
  },
  {
   "cell_type": "markdown",
   "metadata": {
    "slideshow": {
     "slide_type": "slide"
    }
   },
   "source": [
    "A short demo\n",
    "\n",
    "We will solve (again) the Poisson equation"
   ]
  },
  {
   "cell_type": "code",
   "execution_count": null,
   "metadata": {
    "collapsed": true,
    "slideshow": {
     "slide_type": "fragment"
    }
   },
   "outputs": [],
   "source": [
    "import numpy as np\n",
    "import scipy\n",
    "\n",
    "\n",
    "from pyamg.gallery import poisson\n",
    "n = 100\n",
    "mat = poisson((n, n), 'csr')\n",
    "mat = mat * (n + 1) ** 2 #To get a discretization\n",
    "N = mat.shape[0]\n",
    "rhs = np.ones(N)\n",
    "sol = scipy.sparse.linalg.spsolve(mat, rhs)\n",
    "sol = np.reshape(sol, (n, n))"
   ]
  },
  {
   "cell_type": "markdown",
   "metadata": {
    "slideshow": {
     "slide_type": "fragment"
    }
   },
   "source": [
    "And then perturb the right-hand side a little bit."
   ]
  },
  {
   "cell_type": "code",
   "execution_count": null,
   "metadata": {
    "collapsed": false,
    "slideshow": {
     "slide_type": "fragment"
    }
   },
   "outputs": [],
   "source": [
    "rhs = np.reshape(rhs, (n, n))\n",
    "rhs[n/2, n/2] += 1e-3\n",
    "rhs = rhs.flatten()\n",
    "sol1 = scipy.sparse.linalg.spsolve(mat, rhs)\n",
    "sol1 = np.reshape(sol1, (n, n))"
   ]
  },
  {
   "cell_type": "code",
   "execution_count": null,
   "metadata": {
    "collapsed": false,
    "slideshow": {
     "slide_type": "fragment"
    }
   },
   "outputs": [],
   "source": [
    "import matplotlib.pyplot as plt\n",
    "from matplotlib import cm\n",
    "%matplotlib inline\n",
    "import seaborn\n",
    "from mpl_toolkits.mplot3d import Axes3D #3D plotting\n",
    "fig = plt.figure(figsize=(10, 4))\n",
    "ax = fig.add_subplot(1, 2, 1, projection='3d')\n",
    "ax1 = fig.add_subplot(1, 2, 2, projection='3d')\n",
    "t = np.linspace(0, 1, n)\n",
    "x, y = np.meshgrid(t, t)\n",
    "ax.plot_surface(x, y, sol, cmap = cm.winter)\n",
    "ax1.plot_surface(x, y, sol1 - sol, cmap = cm.winter)\n",
    "fig.tight_layout()\n"
   ]
  },
  {
   "cell_type": "markdown",
   "metadata": {
    "slideshow": {
     "slide_type": "fragment"
    }
   },
   "source": [
    "## Notice\n",
    "Note, that the solution **does not** decay exponentially (more like $1/r$)."
   ]
  },
  {
   "cell_type": "markdown",
   "metadata": {
    "slideshow": {
     "slide_type": "slide"
    }
   },
   "source": [
    "## The inverse of a PDE operator\n",
    "More generally, the **inverse** of the discretization of PDE operator is typically **not sparse**.\n",
    "\n",
    "\n",
    "It corresponds to an **integral** operator."
   ]
  },
  {
   "cell_type": "markdown",
   "metadata": {
    "slideshow": {
     "slide_type": "fragment"
    }
   },
   "source": [
    "A demo again, with 1D Poisson "
   ]
  },
  {
   "cell_type": "code",
   "execution_count": null,
   "metadata": {
    "collapsed": false,
    "slideshow": {
     "slide_type": "fragment"
    }
   },
   "outputs": [],
   "source": [
    "n = 100\n",
    "mat = poisson((n, ), 'csr')\n",
    "mat = mat * (n + 1) ** 2 #To get a discretization\n",
    "inv_mat = np.linalg.inv(mat.todense()) #Generally, do not do that, only for demo purposes!\n",
    "fig = plt.figure(figsize=(8, 6))\n",
    "#ax = fig.add_subplot(1, 1, 1, projection='3d')\n",
    "t = np.linspace(0, 1, n)\n",
    "x, y = np.meshgrid(t, t)\n",
    "#ax.contour(x, y, inv_mat, cmap = cm.winter)\n",
    "plt.imshow(inv_mat)\n",
    "plt.colorbar()\n"
   ]
  },
  {
   "cell_type": "markdown",
   "metadata": {
    "slideshow": {
     "slide_type": "fragment"
    }
   },
   "source": [
    "This is again a **slow decay**:\n",
    "\n",
    "We need to learn about **dense matrices**, and corresponding **integral operators**"
   ]
  },
  {
   "cell_type": "markdown",
   "metadata": {
    "slideshow": {
     "slide_type": "slide"
    }
   },
   "source": [
    "## Basic integral operator\n",
    "Consider the Poisson equation with in the free-space in 3D:  \n",
    "\n",
    "\n",
    "$$\\Delta u = f.$$\n",
    "\n",
    "What is the <font color='red'> solution? </font>"
   ]
  },
  {
   "cell_type": "markdown",
   "metadata": {
    "slideshow": {
     "slide_type": "slide"
    }
   },
   "source": [
    "## The fundamental solution \n",
    "The solution to the free-space Poisson equation can be written as\n",
    "\n",
    "$$u = \\int \\frac{f(y)}{\\Vert x - y \\Vert} dy$$\n",
    "\n",
    "You see, that there is <font color='red'> equation here: </font>  \n",
    "\n",
    "It is the exact solution (only have to compute 3D integral, which may be costly)"
   ]
  },
  {
   "cell_type": "markdown",
   "metadata": {
    "slideshow": {
     "slide_type": "slide"
    }
   },
   "source": [
    "## Why it is so?\n",
    "\n",
    "Remember school (or high school) physics, electrostatics: the point charge located at point $x$ creates  a potential in point $y$ equal to  \n",
    "\n",
    "$$V(x, y) = \\frac{1}{r}, \\quad r = \\Vert x - y \\Vert.$$\n",
    "\n",
    "And what is the \"point charge\"? "
   ]
  },
  {
   "cell_type": "markdown",
   "metadata": {
    "slideshow": {
     "slide_type": "slide"
    }
   },
   "source": [
    "If we take the Laplacian of $V(x, y)$ at point $y$ we get\n",
    "\n",
    "$$ \\Delta V(x, y) = \\delta(x - y), $$\n",
    "\n",
    "where $\\delta(x)$ is the 3D <font color='red'> delta function </font>"
   ]
  },
  {
   "cell_type": "markdown",
   "metadata": {
    "slideshow": {
     "slide_type": "slide"
    }
   },
   "source": [
    "## What is a delta function?\n",
    "<font=7.0>  \n",
    "\n",
    "\n",
    "1. Physisist: it is a function that $\\delta(0) = \\infty, \\delta(x) = 0, \\quad x \\ne 0$ and  \n",
    " $$\\int_{-\\infty}^{\\infty} \\delta(x) dx = 1$$\n",
    " \n",
    "2. Physisist, version 2. It is a function such that $$\\int_{-\\infty}^{\\infty} \\delta(x) f(x) dx = 0$$ for any $f$\n",
    "\n",
    "3. Mathematician: it is a generalized function, i.e. a <font color='red'> linear functional </font> on a space of \"good\" functions (analytic functions with bounded support).  \n",
    "The functional is simple: \n",
    "$$\\langle \\delta, f \\rangle = f(0).$$ </font>"
   ]
  },
  {
   "cell_type": "markdown",
   "metadata": {
    "slideshow": {
     "slide_type": "slide"
    }
   },
   "source": [
    "## Discrete $\\delta$-function\n",
    "On a discrete level, it is simple: just put the column of identity matrix into the right-hand side,  and that is a $\\delta$-function. But, have to scale it (<font color='red'> why? </font>)."
   ]
  },
  {
   "cell_type": "markdown",
   "metadata": {
    "slideshow": {
     "slide_type": "slide"
    }
   },
   "source": [
    "## Back to the integral equation\n",
    "Consider again the fundamental solution:\n",
    "\n",
    "$$K(x, y) = \\frac{1}{\\Vert x - y \\Vert}$$\n",
    "\n",
    "This function satisfies\n",
    "\n",
    "$$\n",
    "   \\Delta_x K(x, y) = 0, \n",
    "$$\n",
    "for all $y \\ne x$. "
   ]
  },
  {
   "cell_type": "markdown",
   "metadata": {
    "slideshow": {
     "slide_type": "slide"
    }
   },
   "source": [
    "$K(x, y)$ it is a solution of the Poisson equation with zero right-hand side everywhere, except one point!  \n",
    "\n",
    "\n",
    "<font color='red'> Where it can be helpful? </font>  \n",
    "\n"
   ]
  },
  {
   "cell_type": "markdown",
   "metadata": {
    "slideshow": {
     "slide_type": "fragment"
    }
   },
   "source": [
    "In the solution of <font color='red'> exterior problems! </font>"
   ]
  },
  {
   "cell_type": "markdown",
   "metadata": {
    "slideshow": {
     "slide_type": "slide"
    }
   },
   "source": [
    "## Exterior and interior problems\n",
    "What we have considered before, were <font color='red'> interior problems </font>, i.e. the solution is sought in the <font color = 'red'> bounded domain </font>"
   ]
  },
  {
   "cell_type": "markdown",
   "metadata": {
    "slideshow": {
     "slide_type": "slide"
    }
   },
   "source": [
    "- **Interior problems**: diffusion, elasticity, fluid flows in a cavity\n",
    "- **Extrerior problems**: scattering (acoustics, electromagnetics, electrostatics), where the solution is not periodic/decays slowly in the infinity (remember point charge!)"
   ]
  },
  {
   "cell_type": "markdown",
   "metadata": {
    "slideshow": {
     "slide_type": "slide"
    }
   },
   "source": [
    "## Why integral equations in the the exterior problems?\n",
    "\n",
    "Consider a bounded domain (i.e., a cube) attached to a battery. That means, the potential is constant on the surface of the cube.\n",
    "\n",
    "There are no charges in the space, thus we have the **exterior Dirichlet problem**:\n",
    "\n",
    "$$\\Delta V = 0, \\quad V(x) = 1, \\quad x \\in \\partial \\Omega$$\n"
   ]
  },
  {
   "cell_type": "markdown",
   "metadata": {
    "slideshow": {
     "slide_type": "slide"
    }
   },
   "source": [
    "Remember our formula:\n",
    "    \n",
    "$$u(x) = \\int \\frac{f(y)}{\\Vert x - y \\Vert } dy.$$  \n",
    "\n",
    "Can it help?"
   ]
  },
  {
   "cell_type": "markdown",
   "metadata": {
    "slideshow": {
     "slide_type": "slide"
    }
   },
   "source": [
    "Yes, it can: consider the integration over the **surface of the cube**,  \n",
    "\n",
    "\n",
    "$$V(x) = \\int_{\\partial \\Omega} \\frac{q(y)}{\\Vert x - y \\Vert} dy.$$  \n",
    "\n",
    "It satisfies $$\\Delta_x V(x) = 0$$ for all $x \\notin \\partial \\Omega$ for **any** $q(y)$.\n",
    "\n",
    "But it does not satisfy the **boundary condition** !"
   ]
  },
  {
   "cell_type": "markdown",
   "metadata": {
    "slideshow": {
     "slide_type": "slide"
    }
   },
   "source": [
    "## Integral equation\n",
    "\n",
    "Let us make it the equation!\n",
    "\n",
    "$$\\int_{\\partial \\Omega} \\frac{q(y)}{\\Vert x - y \\Vert} dy = g(x) = 1, \\quad x \\in \\partial \\Omega$$\n",
    "\n",
    "This the <font color='red'> equation for the unknown function </font> $q(y)$ that is defined on the surface!  \n",
    "\n",
    "And it has very simple meaning -- a battery generates the charges on the surface"
   ]
  },
  {
   "cell_type": "markdown",
   "metadata": {
    "slideshow": {
     "slide_type": "slide"
    }
   },
   "source": [
    "##Engineers love integral equations\n",
    "\n",
    "Why IE are good?\n",
    "\n",
    "- Bounded domain discretization\n",
    "- No need to bother with boundary conditions (boundary conditions are the equations, in fact)\n",
    "- Simple elements (piecewise-constant, piecewise linear) can be used to get a qualitative picture\n",
    "- Ok for Maxwell equations, acoustics, electrostatics, elasticity problems"
   ]
  },
  {
   "cell_type": "markdown",
   "metadata": {
    "slideshow": {
     "slide_type": "slide"
    }
   },
   "source": [
    "## Applications of IE\n",
    "- Mechanical engineering (bridges, elasticity)\n",
    "- Antennas and propagation (radars, communication systems)\n",
    "- Acoustics (sonars, noise cancellation and modelling)\n",
    "- MRI (high-resolution tomography)"
   ]
  },
  {
   "cell_type": "markdown",
   "metadata": {
    "slideshow": {
     "slide_type": "slide"
    }
   },
   "source": [
    "## What are the problems of IE\n",
    "\n",
    "Integral equations have several problems\n",
    "\n",
    "- They yield dense matrices that can be large and/or ill-conditioned\n",
    "- Computation of the matrix elements require the computation of singular integrals\n",
    "- Not every problem is easy to reformulate as an integral equation, i.e. it requires \"homogenious media\"   where you can **invert** the differential operator \n",
    "\n",
    "  <font color='red'> Example: a multilayer medium, or antenna system requires a special treatment </font>"
   ]
  },
  {
   "cell_type": "markdown",
   "metadata": {
    "slideshow": {
     "slide_type": "slide"
    }
   },
   "source": [
    "## Problem 1: Dense matrices\n",
    "For a surface integral equation, $N = \\mathcal{O}(n^2)$, \n",
    "\n",
    "- Memory: if all the matrix elements are computed, this gives $10^4 \\times 10^4$ (at least) matrices, and   we run out of memory.  \n",
    "- Complexity: if nothing special is done, $\\mathcal{O}(N^3)$ complexity.\n",
    "\n",
    "If we have a non-homogenious scatterer, we get **volume integral equations**"
   ]
  },
  {
   "cell_type": "markdown",
   "metadata": {
    "slideshow": {
     "slide_type": "fragment"
    }
   },
   "source": [
    "<font color='red'> Solution: use data-sparse approximation of the matrix </font>"
   ]
  },
  {
   "cell_type": "markdown",
   "metadata": {
    "slideshow": {
     "slide_type": "slide"
    }
   },
   "source": [
    "## Problem 2: Discretization and elements\n",
    "\n",
    "There are several methods to discretize an integral equation (we will discuss them in the next lecture).  \n",
    "\n",
    "They lead to the integrals of the form\n",
    "\n",
    "$$\n",
    "   \\int_{\\Pi} \\frac{1}{r} dy\n",
    "$$\n",
    "\n",
    "where the integral is over an **elementary cell**. This is called **singular integrals**.\n",
    "\n",
    "There also can be integrals of the form\n",
    "\n",
    "$$\n",
    "   \\int_{\\Pi} \\frac{1}{r^2} dy, \n",
    "$$\n",
    "\n",
    "and \n",
    "$$\n",
    "   \\int_{\\Pi} \\frac{1}{r^3} dy\n",
    "$$\n",
    "(?!)\n",
    "<font color='red'> Hint: </font> try to compute the integral $\\int_{-1}^{1} \\frac{1}{x^2} dx$."
   ]
  },
  {
   "cell_type": "markdown",
   "metadata": {
    "slideshow": {
     "slide_type": "slide"
    }
   },
   "source": [
    "## Problem 2: Discretization and elements (cont)\n",
    "This is solved by **special quadratures** and is mainly an art (i.e. subtract a singularity, integrate it analytically, etc.)"
   ]
  },
  {
   "cell_type": "markdown",
   "metadata": {
    "slideshow": {
     "slide_type": "slide"
    }
   },
   "source": [
    "## Problem 3: Applicability\n",
    "The application of classical IE is limited to the **linear problems** (forget about Navier-Stokes for a moment) and with **homogenious media**: we have to write down the analytic solution.  \n",
    "\n",
    "However, a recent research (which we are doing as well) shows that **fundamental solutions** can be computed on the discrete level, once we have the discretization of the system (i.e. sparse matrices)"
   ]
  },
  {
   "cell_type": "markdown",
   "metadata": {
    "slideshow": {
     "slide_type": "slide"
    }
   },
   "source": [
    "## BEM++ software package\n",
    "There are  quite a few closed-source solutions for solving integral equations in specific application areas.  \n",
    "\n",
    "The BEM++ package http://www.bempp.org/ is one of the few exceptions."
   ]
  },
  {
   "cell_type": "markdown",
   "metadata": {
    "slideshow": {
     "slide_type": "slide"
    }
   },
   "source": [
    "## Conclusions\n",
    "Integral equations are extremely efficient if applied in the right context\n",
    "\n",
    "They can solve exterior/interior problems for:\n",
    "\n",
    "- Laplace equation\n",
    "- Helmholtz equation\n",
    "- Maxwell equations\n",
    "\n",
    "The ideas can also be applied to provide efficient sparse matrix solvers."
   ]
  },
  {
   "cell_type": "code",
   "execution_count": 6,
   "metadata": {
    "collapsed": false,
    "slideshow": {
     "slide_type": "skip"
    }
   },
   "outputs": [
    {
     "data": {
      "text/html": [
       "<link href='http://fonts.googleapis.com/css?family=Fenix' rel='stylesheet' type='text/css'>\n",
       "<link href='http://fonts.googleapis.com/css?family=Alegreya+Sans:100,300,400,500,700,800,900,100italic,300italic,400italic,500italic,700italic,800italic,900italic' rel='stylesheet' type='text/css'>\n",
       "<link href='http://fonts.googleapis.com/css?family=Source+Code+Pro:300,400' rel='stylesheet' type='text/css'>\n",
       "<style>\n",
       "    @font-face {\n",
       "        font-family: \"Computer Modern\";\n",
       "        src: url('http://mirrors.ctan.org/fonts/cm-unicode/fonts/otf/cmunss.otf');\n",
       "    }\n",
       "    div.cell{\n",
       "        /*width:80%;*/\n",
       "        /*margin-left:auto !important;\n",
       "        margin-right:auto;*/\n",
       "    }\n",
       "    h1 {\n",
       "        font-family: 'Alegreya Sans', sans-serif;\n",
       "    }\n",
       "    h2 {\n",
       "        font-family: 'Fenix', serif;\n",
       "    }\n",
       "    h3{\n",
       "\t\tfont-family: 'Fenix', serif;\n",
       "        margin-top:12px;\n",
       "        margin-bottom: 3px;\n",
       "       }\n",
       "\th4{\n",
       "\t\tfont-family: 'Fenix', serif;\n",
       "       }\n",
       "    h5 {\n",
       "        font-family: 'Alegreya Sans', sans-serif;\n",
       "    }\t   \n",
       "    div.text_cell_render{\n",
       "        font-family: 'Alegreya Sans',Computer Modern, \"Helvetica Neue\", Arial, Helvetica, Geneva, sans-serif;\n",
       "        line-height: 1.2;\n",
       "        font-size: 100%;\n",
       "        /*width:70%;*/\n",
       "        /*margin-left:auto;*/\n",
       "        margin-right:auto;\n",
       "    }\n",
       "    .CodeMirror{\n",
       "            font-family: \"Source Code Pro\";\n",
       "\t\t\tfont-size: 90%;\n",
       "    }\n",
       "/*    .prompt{\n",
       "        display: None;\n",
       "    }*/\n",
       "    .text_cell_render h1 {\n",
       "        font-weight: 200;\n",
       "        font-size: 50pt;\n",
       "\t\tline-height: 100%;\n",
       "        color:#CD2305;\n",
       "        margin-bottom: 0.5em;\n",
       "        margin-top: 0.5em;\n",
       "        display: block;\n",
       "    }\t\n",
       "    .text_cell_render h5 {\n",
       "        font-weight: 300;\n",
       "        font-size: 16pt;\n",
       "        color: #CD2305;\n",
       "        font-style: italic;\n",
       "        margin-bottom: .5em;\n",
       "        margin-top: 0.5em;\n",
       "        display: block;\n",
       "    }\n",
       "    \n",
       "    li {\n",
       "        line-height: 100%;\n",
       "    }\n",
       "    .warning{\n",
       "        color: rgb( 240, 20, 20 )\n",
       "        }  \n",
       "</style>\n",
       "<script>\n",
       "    MathJax.Hub.Config({\n",
       "                        TeX: {\n",
       "                           extensions: [\"AMSmath.js\"]\n",
       "                           },\n",
       "                tex2jax: {\n",
       "                    inlineMath: [ ['$','$'], [\"\\\\(\",\"\\\\)\"] ],\n",
       "                    displayMath: [ ['$$','$$'], [\"\\\\[\",\"\\\\]\"] ]\n",
       "                },\n",
       "                displayAlign: 'center', // Change this to 'center' to center equations.\n",
       "                \"HTML-CSS\": {\n",
       "                    styles: {'.MathJax_Display': {\"margin\": 4}}\n",
       "                }\n",
       "        });\n",
       "</script>\n"
      ],
      "text/plain": [
       "<IPython.core.display.HTML object>"
      ]
     },
     "execution_count": 6,
     "metadata": {},
     "output_type": "execute_result"
    }
   ],
   "source": [
    "from IPython.core.display import HTML\n",
    "def css_styling():\n",
    "    styles = open(\"./styles/alex.css\", \"r\").read()\n",
    "    return HTML(styles)\n",
    "css_styling()"
   ]
  }
 ],
 "metadata": {
  "celltoolbar": "Slideshow",
  "kernelspec": {
   "display_name": "Python 2",
   "language": "python",
   "name": "python2"
  },
  "language_info": {
   "codemirror_mode": {
    "name": "ipython",
    "version": 2
   },
   "file_extension": ".py",
   "mimetype": "text/x-python",
   "name": "python",
   "nbconvert_exporter": "python",
   "pygments_lexer": "ipython2",
   "version": "2.7.9"
  }
 },
 "nbformat": 4,
 "nbformat_minor": 0
}
