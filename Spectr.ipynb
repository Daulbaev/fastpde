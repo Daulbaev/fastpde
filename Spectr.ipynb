{
 "cells": [
  {
   "cell_type": "markdown",
   "metadata": {
    "slideshow": {
     "slide_type": "slide"
    }
   },
   "source": [
    "# Lecture 5: Spectral Methods"
   ]
  },
  {
   "cell_type": "markdown",
   "metadata": {
    "slideshow": {
     "slide_type": "slide"
    }
   },
   "source": [
    "## An idea\n",
    "\n",
    "* Suppose we are solving\n",
    "$$\n",
    "\\begin{align*}\n",
    "-\\Delta u &= f \\\\\n",
    "u &= 0\\quad\\text{on }\\Gamma,\n",
    "\\end{align*}\n",
    "$$\n",
    "in $\\Omega = [0,1]^2$ (unit square)\n",
    "\n",
    "* Idea: why not\n",
    "$$\n",
    "v^{(k,\\ell)} := \\sin(k \\pi x) \\sin(\\ell \\pi x)\n",
    "$$\n",
    "as basis functions?\n",
    "\n",
    "* It is a good idea:\n",
    "$$\n",
    "-\\Delta v^{(k,\\ell)} = \\pi^2 (k^2+\\ell^2) v^{(k,\\ell)}\n",
    "$$\n",
    "(in other words, $v^{(k,\\ell)}$ are eigenvalues of $-\\Delta$)\n",
    "\n",
    "* Can use Fast Sine Transform (FST) to obtain the coefficients in\n",
    "$$\n",
    "u^h = \\sum_{k,\\ell} c_{k,\\ell} v^{(k,\\ell)}\n",
    "$$\n",
    "\n",
    "* We then can easily solve:\n",
    "    - Sample $f$ at points $(i h, j h)$, $h=1/N$;\n",
    "    - Find the coefficients $\\hat{f}_{k,\\ell}$ in\n",
    "    $$\n",
    "        f = \\sum_{k,\\ell} \\hat{f}_{k,\\ell} v^{(k,\\ell)}\n",
    "    $$\n",
    "    (i.e., apply the FST)\n",
    "    \n",
    "    - Find the coefficients of the solution\n",
    "    $$\n",
    "        \\hat{u}_h = {\\pi^2(k^2+\\ell^2)}\\hat{f}_{k,\\ell}\n",
    "    $$\n",
    "    - Find the solution (i.e., apply the inverse FST)\n",
    "    $$\n",
    "        \\hat{u}_h = \\sum_{k,\\ell} \\hat{u}^h_{k,\\ell} v^{(k,\\ell)}\n",
    "    $$\n",
    "    \n",
    "* **To think:** Did we discretize the domain?"
   ]
  },
  {
   "cell_type": "markdown",
   "metadata": {
    "slideshow": {
     "slide_type": "slide"
    }
   },
   "source": [
    "## Time-dependent example\n",
    "\n",
    "$$\n",
    "\\begin{align*}\n",
    "u_t &= \\Delta u \\\\\n",
    "u &= u^0\\quad\\text{at }t=0 \\\\\n",
    "u &= 0\\quad\\text{on }\\Gamma,\n",
    "\\end{align*}\n",
    "$$\n",
    "in $\\Omega = [0,1]^2$ (unit square)\n",
    "\n",
    "* If we assume the same spatial discretization, then\n",
    "$$\n",
    "u_h(t,x,y) = \\sum_{k,\\ell} e^{-(k^2+\\ell^2) t} \\hat{u}^0_{k,\\ell} v^{(k,\\ell)}\n",
    "$$\n",
    "\n",
    "* The algorithm is then:\n",
    "    - Find $\\hat{u}^0_{k,\\ell}$ (apply the FST)\n",
    "    - Calculate $\\hat{u}^h_{k,\\ell}(T) := e^{-(k^2+\\ell^2) T}\\, \\hat{u}^0_{k,\\ell}$\n",
    "    - Hence find $u^h(T)$ (apply the inverse FST)"
   ]
  },
  {
   "cell_type": "markdown",
   "metadata": {
    "slideshow": {
     "slide_type": "slide"
    }
   },
   "source": [
    "## Other uses of the spectral methods (1):\n",
    "\n",
    "* Suppose we need to compute\n",
    "$$\n",
    "{\\rm div}(K \\nabla u)\n",
    "$$\n",
    "with (for a change) periodic boundary conditions (so FFT can be applied) in a unit square.\n",
    "\n",
    "* The algorithm is then:\n",
    "    - Given values of $u$\n",
    "    - Calculate $\\hat{u} = {\\rm FFT}(u)$\n",
    "    - Calculate $i\\pi k \\hat{u}_{k,\\ell} = {\\rm FFT}(\\frac{\\partial}{\\partial x} u)$\n",
    "    - Calculate $\\frac{\\partial}{\\partial x} u = {\\rm iFFT}(i\\pi k \\hat{u}_{k,\\ell})$\n",
    "    - Then multiply by $K$\n",
    "    - and again apply $\\frac{\\partial}{\\partial x}$ using ${\\rm FFT}$ and  ${\\rm iFFT}$.\n",
    "    - Repeat with $\\frac{\\partial}{\\partial y}$.\n",
    "    \n",
    "* Nonlinear problems can be treated in a similar way\n",
    "    - But extra care must be exercised (check out, e.g., what is an aliasing error)"
   ]
  },
  {
   "cell_type": "markdown",
   "metadata": {
    "slideshow": {
     "slide_type": "slide"
    }
   },
   "source": [
    "## Other uses of the spectral methods (2):\n",
    "\n",
    "* Can use polynomials instead of trigonometry:\n",
    "$$\n",
    "T_n(x) = \\cos(n \\arccos (x))\n",
    "$$\n",
    "are Chebyshev polynomials!\n",
    "If one generates meshes with nodes $x_k = \\arccos (h k)$, one can use FFT!\n",
    "    - Check out [ChebFun](http://www.chebfun.org/)"
   ]
  },
  {
   "cell_type": "markdown",
   "metadata": {
    "slideshow": {
     "slide_type": "slide"
    }
   },
   "source": [
    "## Other uses of the spectral methods (3):\n",
    "\n",
    "* Can split the domain into several quadrilaterals, and use a spectral discretization in each $\\rightarrow$ **Spectral element method**\n",
    "<img src=\"fig/SEM.gif\">\n",
    "\n",
    "* Closely related to the hp-FEM"
   ]
  },
  {
   "cell_type": "markdown",
   "metadata": {
    "slideshow": {
     "slide_type": "slide"
    }
   },
   "source": [
    "## Limitations of the Spectral Method:\n",
    "\n",
    "* Efficient only if the solution is smooth (otherwise not more accurate than a FEM of some order)\n",
    "* Can be used only in rectangular domains\n",
    "    - or smooth deformations of rectangular domains\n",
    "    - or their union\n",
    "* Parallelization is not easy"
   ]
  },
  {
   "cell_type": "markdown",
   "metadata": {
    "slideshow": {
     "slide_type": "slide"
    }
   },
   "source": [
    "##### Questions?\n"
   ]
  },
  {
   "cell_type": "code",
   "execution_count": 1,
   "metadata": {
    "collapsed": false,
    "run_control": {
     "read_only": false
    },
    "slideshow": {
     "slide_type": "skip"
    }
   },
   "outputs": [
    {
     "data": {
      "text/html": [
       "<link href='http://fonts.googleapis.com/css?family=Fenix' rel='stylesheet' type='text/css'>\n",
       "<link href='http://fonts.googleapis.com/css?family=Alegreya+Sans:100,300,400,500,700,800,900,100italic,300italic,400italic,500italic,700italic,800italic,900italic' rel='stylesheet' type='text/css'>\n",
       "<link href='http://fonts.googleapis.com/css?family=Source+Code+Pro:300,400' rel='stylesheet' type='text/css'>\n",
       "<style>\n",
       "    @font-face {\n",
       "        font-family: \"Computer Modern\";\n",
       "        src: url('http://mirrors.ctan.org/fonts/cm-unicode/fonts/otf/cmunss.otf');\n",
       "    }\n",
       "    div.cell{\n",
       "        /*width:80%;*/\n",
       "        /*margin-left:auto !important;\n",
       "        margin-right:auto;*/\n",
       "    }\n",
       "    h1 {\n",
       "        font-family: 'Alegreya Sans', sans-serif;\n",
       "    }\n",
       "    h2 {\n",
       "        font-family: 'Fenix', serif;\n",
       "    }\n",
       "    h3{\n",
       "\t\tfont-family: 'Fenix', serif;\n",
       "        margin-top:12px;\n",
       "        margin-bottom: 3px;\n",
       "       }\n",
       "\th4{\n",
       "\t\tfont-family: 'Fenix', serif;\n",
       "       }\n",
       "    h5 {\n",
       "        font-family: 'Alegreya Sans', sans-serif;\n",
       "    }\t   \n",
       "    div.text_cell_render{\n",
       "        font-family: 'Alegreya Sans',Computer Modern, \"Helvetica Neue\", Arial, Helvetica, Geneva, sans-serif;\n",
       "        line-height: 1.2;\n",
       "        font-size: 100%;\n",
       "        /*width:70%;*/\n",
       "        /*margin-left:auto;*/\n",
       "        margin-right:auto;\n",
       "    }\n",
       "    .CodeMirror{\n",
       "            font-family: \"Source Code Pro\";\n",
       "\t\t\tfont-size: 100%;\n",
       "\t\t\tline-height: 110%;\n",
       "    }\n",
       "/*    .prompt{\n",
       "        display: None;\n",
       "    }*/\n",
       "    .text_cell_render h1 {\n",
       "        font-weight: 200;\n",
       "        font-size: 50pt;\n",
       "\t\tline-height: 110%;\n",
       "        color:#CD2305;\n",
       "        margin-bottom: 0.5em;\n",
       "        margin-top: 0.5em;\n",
       "        display: block;\n",
       "    }\t\n",
       "    .text_cell_render h5 {\n",
       "        font-weight: 300;\n",
       "        font-size: 16pt;\n",
       "        color: #CD2305;\n",
       "        font-style: italic;\n",
       "        margin-bottom: .5em;\n",
       "        margin-top: 0.5em;\n",
       "        display: block;\n",
       "    }\n",
       "    \n",
       "    li {\n",
       "        line-height: 110%;\n",
       "    }\n",
       "    .warning{\n",
       "        color: rgb( 240, 20, 20 )\n",
       "        }  \n",
       "</style>\n",
       "<script>\n",
       "    MathJax.Hub.Config({\n",
       "                        TeX: {\n",
       "                           extensions: [\"AMSmath.js\"]\n",
       "                           },\n",
       "                tex2jax: {\n",
       "                    inlineMath: [ ['$','$'], [\"\\\\(\",\"\\\\)\"] ],\n",
       "                    displayMath: [ ['$$','$$'], [\"\\\\[\",\"\\\\]\"] ]\n",
       "                },\n",
       "                displayAlign: 'center', // Change this to 'center' to center equations.\n",
       "                \"HTML-CSS\": {\n",
       "                    styles: {'.MathJax_Display': {\"margin\": 4}}\n",
       "                }\n",
       "        });\n",
       "</script>\n"
      ],
      "text/plain": [
       "<IPython.core.display.HTML object>"
      ]
     },
     "execution_count": 1,
     "metadata": {},
     "output_type": "execute_result"
    }
   ],
   "source": [
    "from IPython.core.display import HTML\n",
    "def css_styling():\n",
    "    styles = open(\"./styles/alex.css\", \"r\").read()\n",
    "    return HTML(styles)\n",
    "css_styling()\n",
    "\n"
   ]
  },
  {
   "cell_type": "code",
   "execution_count": null,
   "metadata": {
    "collapsed": true
   },
   "outputs": [],
   "source": []
  }
 ],
 "metadata": {
  "celltoolbar": "Slideshow",
  "kernelspec": {
   "display_name": "Python 2",
   "language": "python",
   "name": "python2"
  },
  "language_info": {
   "codemirror_mode": {
    "name": "ipython",
    "version": 2
   },
   "file_extension": ".py",
   "mimetype": "text/x-python",
   "name": "python",
   "nbconvert_exporter": "python",
   "pygments_lexer": "ipython2",
   "version": "2.7.8"
  }
 },
 "nbformat": 4,
 "nbformat_minor": 0
}
