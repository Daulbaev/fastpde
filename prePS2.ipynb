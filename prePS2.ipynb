{
 "cells": [
  {
   "cell_type": "markdown",
   "metadata": {},
   "source": [
    "# Fast PDE/IE course, Skoltech, Spring 2015"
   ]
  },
  {
   "cell_type": "markdown",
   "metadata": {},
   "source": [
    "## Pre-Problem Set 2:\n",
    "### A strongly suggested problem to solve"
   ]
  },
  {
   "cell_type": "markdown",
   "metadata": {},
   "source": [
    "### Problem 1 (not graded)\n",
    "\n",
    "Take a Poisson equation\n",
    "$$\n",
    "\\begin{align*}\n",
    "-\\Delta u &= 1\\qquad\\text{on $\\Omega$}\n",
    "\\\\\n",
    "u &= 0\\qquad\\text{on $\\Gamma$}\n",
    "\\end{align*}\n",
    "$$\n",
    "where $\\Omega = B_1(0,0)\\setminus B_{0.3}(0.7,0)$, $B_r(x,y)$ is the ball with radius $r$ and center at $(x,y)$.\n",
    "\n",
    "Use finite elements.\n",
    "\n",
    "Your goal is to compute $\\int_{\\Omega} u$\n",
    "\n",
    "Many mesh generators will fail to construct a mesh in that region, so consider two regions, $\\Omega_1 = B_1(0,0)\\setminus B_{0.3}(0.7-\\epsilon,0)$ and $\\Omega_2 = B_1(0,0)\\setminus B_{0.3}(0.7+\\epsilon,0)$ and show that the computed solutions (or integrals of the solutions) are close to each other for small values of $\\epsilon$."
   ]
  },
  {
   "cell_type": "markdown",
   "metadata": {},
   "source": [
    "## Step 1. Build a mesh\n",
    "\n",
    "You can do it either by using MeshPy or by downloading the prepared [files](https://github.com/oseledets/fastpde/tree/master/Mesh_guide).\n",
    "\n",
    "MeshPy short guide and functions that read the prepared files can be found [here](http://nbviewer.ipython.org/github/oseledets/fastpde/blob/master/Mesh_guide/Mesh.ipynb)."
   ]
  },
  {
   "cell_type": "code",
   "execution_count": null,
   "metadata": {
    "collapsed": true
   },
   "outputs": [],
   "source": []
  },
  {
   "cell_type": "markdown",
   "metadata": {},
   "source": [
    "## Step 2. Assemble the stiffness matrix\n",
    "* Write a function that assembes $3\\times 3$ matrix $M$ for a given triangle\n",
    "$$M = \\frac{|T|}{2} G G^T,\n",
    "\\qquad\\text{where}\\qquad\n",
    "G =\n",
    "\\left(\n",
    "\\begin{array}{ccc}\n",
    "1 & 1 & 1 \\\\\n",
    "x_1 & x_2 & x_3 \\\\\n",
    "y_1 & y_2 & y_3\n",
    "\\end{array}\n",
    "\\right)^{-1}\n",
    "\\left(\n",
    "\\begin{array}{ccc}\n",
    "0 & 0 \\\\\n",
    "1 & 0 \\\\\n",
    "0 & 1\n",
    "\\end{array}\n",
    "\\right),$$\n",
    "(see [lecture 4](http://nbviewer.ipython.org/github/oseledets/fastpde/blob/master/lecture-4.ipynb) for more details).\n",
    "* Run a loop for all triangles and assemble the stiffness matrix\n",
    "<!---\n",
    "```\n",
    "for all T\n",
    "    calculate M\n",
    "    for k=1..3\n",
    "        for l=1..3\n",
    "            A[triangles[k], triangles[l]] += M[k, l]\n",
    "```\n",
    "-->\n",
    "\n",
    "* Correct rows and columns that correspond to Dirichlet boundary points\n",
    "\n",
    "**Note:** use $\\verb|scipy.sparse|$ to work with sparse matrices. Note that in the $\\verb|scipy.sparse|$ the only sparse format that allows to change elements is lil."
   ]
  },
  {
   "cell_type": "code",
   "execution_count": null,
   "metadata": {
    "collapsed": true
   },
   "outputs": [],
   "source": []
  },
  {
   "cell_type": "markdown",
   "metadata": {},
   "source": [
    "## Step 3. Assemble the right-hand side\n",
    "\n",
    "The RHS for the $i$-th node is $$f_i = \\int_\\Omega f \\eta_i d\\Omega .$$\n",
    "To assemble it run a loop for all triangles and use quadrature rule from the [lecture 4](http://nbviewer.ipython.org/github/oseledets/fastpde/blob/master/lecture-4.ipynb). \n",
    "\n",
    "**Note:** do not forget to put zeros in the rows that correspond to Dirichlet boundary points."
   ]
  },
  {
   "cell_type": "code",
   "execution_count": null,
   "metadata": {
    "collapsed": true
   },
   "outputs": [],
   "source": []
  },
  {
   "cell_type": "markdown",
   "metadata": {},
   "source": [
    "## Step 4. Verify your code\n",
    "Check your code using the fact that for $\\Omega = B_1(0,0)$ the solution of \n",
    "$$\n",
    "\\begin{align*}\n",
    "-\\Delta u &= 1\\qquad\\text{on $\\Omega$}\n",
    "\\\\\n",
    "u &= 0\\qquad\\text{on $\\Gamma$}\n",
    "\\end{align*}\n",
    "$$\n",
    "is \n",
    "$$\n",
    "u = \\frac{1-x^2 - y^2}{4}\n",
    "$$\n",
    "**Note:** you can plot the solution using the following code\n",
    "```\n",
    "%matplotlib inline\n",
    "import matplotlib.pyplot as plt\n",
    "import matplotlib.mlab as mlab\n",
    "xi = np.linspace(-1, 1, 200) \n",
    "yi = np.linspace(-1, 1, 200) \n",
    "z = mlab.griddata(points[:, 0], points[:, 1], sol, xi, yi)\n",
    "plt.contourf(xi, yi, z)\n",
    "plt.colorbar()\n",
    "```"
   ]
  },
  {
   "cell_type": "code",
   "execution_count": null,
   "metadata": {
    "collapsed": true
   },
   "outputs": [],
   "source": []
  },
  {
   "cell_type": "markdown",
   "metadata": {},
   "source": [
    "## Step 5. Calculate fluid flux\n",
    "* Calculate  fluid fluxes $\\int_{\\Omega} u\\, d \\Omega$ in $B_{0.3}(0.7,0)$ and in $B_{0.3}(0.5,0)$. Which one is bigger? Do you have intuition behind this fact?\n",
    "\n",
    "**Note:** $\\int_{\\Omega} u\\, d \\Omega$ is not just a sum over all elemets of the solution vector as $u(x,y) \\approx \\sum с_i \\eta_i(x,y)$."
   ]
  },
  {
   "cell_type": "code",
   "execution_count": null,
   "metadata": {
    "collapsed": true
   },
   "outputs": [],
   "source": []
  },
  {
   "cell_type": "code",
   "execution_count": 1,
   "metadata": {
    "collapsed": false,
    "run_control": {
     "breakpoint": false,
     "read_only": false
    }
   },
   "outputs": [
    {
     "data": {
      "text/html": [
       "<link href='http://fonts.googleapis.com/css?family=Fenix' rel='stylesheet' type='text/css'>\n",
       "<link href='http://fonts.googleapis.com/css?family=Alegreya+Sans:100,300,400,500,700,800,900,100italic,300italic,400italic,500italic,700italic,800italic,900italic' rel='stylesheet' type='text/css'>\n",
       "<link href='http://fonts.googleapis.com/css?family=Source+Code+Pro:300,400' rel='stylesheet' type='text/css'>\n",
       "<style>\n",
       "    @font-face {\n",
       "        font-family: \"Computer Modern\";\n",
       "        src: url('http://mirrors.ctan.org/fonts/cm-unicode/fonts/otf/cmunss.otf');\n",
       "    }\n",
       "    div.cell{\n",
       "        /*width:80%;*/\n",
       "        /*margin-left:auto !important;\n",
       "        margin-right:auto;*/\n",
       "    }\n",
       "    h1 {\n",
       "        font-family: 'Alegreya Sans', sans-serif;\n",
       "    }\n",
       "    h2 {\n",
       "        font-family: 'Fenix', serif;\n",
       "    }\n",
       "    h3{\n",
       "\t\tfont-family: 'Fenix', serif;\n",
       "        margin-top:12px;\n",
       "        margin-bottom: 3px;\n",
       "       }\n",
       "\th4{\n",
       "\t\tfont-family: 'Fenix', serif;\n",
       "       }\n",
       "    h5 {\n",
       "        font-family: 'Alegreya Sans', sans-serif;\n",
       "    }\t   \n",
       "    div.text_cell_render{\n",
       "        font-family: 'Alegreya Sans',Computer Modern, \"Helvetica Neue\", Arial, Helvetica, Geneva, sans-serif;\n",
       "        line-height: 1.2;\n",
       "        font-size: 160%;\n",
       "        /*width:70%;*/\n",
       "        /*margin-left:auto;*/\n",
       "        margin-right:auto;\n",
       "    }\n",
       "    .CodeMirror{\n",
       "            font-family: \"Source Code Pro\";\n",
       "\t\t\tfont-size: 90%;\n",
       "    }\n",
       "/*    .prompt{\n",
       "        display: None;\n",
       "    }*/\n",
       "    .text_cell_render h1 {\n",
       "        font-weight: 200;\n",
       "        font-size: 50pt;\n",
       "\t\tline-height: 110%;\n",
       "        color:#CD2305;\n",
       "        margin-bottom: 0.5em;\n",
       "        margin-top: 0.5em;\n",
       "        display: block;\n",
       "    }\t\n",
       "    .text_cell_render h5 {\n",
       "        font-weight: 300;\n",
       "        font-size: 16pt;\n",
       "        color: #CD2305;\n",
       "        font-style: italic;\n",
       "        margin-bottom: .5em;\n",
       "        margin-top: 0.5em;\n",
       "        display: block;\n",
       "    }\n",
       "    \n",
       "    li {\n",
       "        line-height: 110%;\n",
       "    }\n",
       "    .warning{\n",
       "        color: rgb( 240, 20, 20 )\n",
       "        }  \n",
       "</style>\n",
       "<script>\n",
       "    MathJax.Hub.Config({\n",
       "                        TeX: {\n",
       "                           extensions: [\"AMSmath.js\"]\n",
       "                           },\n",
       "                tex2jax: {\n",
       "                    inlineMath: [ ['$','$'], [\"\\\\(\",\"\\\\)\"] ],\n",
       "                    displayMath: [ ['$$','$$'], [\"\\\\[\",\"\\\\]\"] ]\n",
       "                },\n",
       "                displayAlign: 'center', // Change this to 'center' to center equations.\n",
       "                \"HTML-CSS\": {\n",
       "                    styles: {'.MathJax_Display': {\"margin\": 4}}\n",
       "                }\n",
       "        });\n",
       "</script>\n"
      ],
      "text/plain": [
       "<IPython.core.display.HTML object>"
      ]
     },
     "execution_count": 1,
     "metadata": {},
     "output_type": "execute_result"
    }
   ],
   "source": [
    "from IPython.core.display import HTML\n",
    "def css_styling():\n",
    "    styles = open(\"./styles/custom.css\", \"r\").read()\n",
    "    return HTML(styles)\n",
    "css_styling()"
   ]
  }
 ],
 "metadata": {
  "kernelspec": {
   "display_name": "Python 2",
   "language": "python",
   "name": "python2"
  },
  "language_info": {
   "codemirror_mode": {
    "name": "ipython",
    "version": 2
   },
   "file_extension": ".py",
   "mimetype": "text/x-python",
   "name": "python",
   "nbconvert_exporter": "python",
   "pygments_lexer": "ipython2",
   "version": "2.7.9"
  }
 },
 "nbformat": 4,
 "nbformat_minor": 0
}
