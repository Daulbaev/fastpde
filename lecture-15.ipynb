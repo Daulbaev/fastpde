{
 "cells": [
  {
   "cell_type": "code",
   "execution_count": 2,
   "metadata": {
    "collapsed": false,
    "slideshow": {
     "slide_type": "skip"
    }
   },
   "outputs": [
    {
     "data": {
      "text/plain": [
       "{u'start_slideshow_at': 'selected', u'theme': 'sky', u'transition': 'zoom'}"
      ]
     },
     "execution_count": 2,
     "metadata": {},
     "output_type": "execute_result"
    }
   ],
   "source": [
    "from IPython.html.services.config import ConfigManager\n",
    "from IPython.utils.path import locate_profile\n",
    "cm = ConfigManager(profile_dir=locate_profile(get_ipython().profile))\n",
    "cm.update('livereveal', {\n",
    "              'theme': 'sky',\n",
    "              'transition': 'zoom',\n",
    "              'start_slideshow_at': 'selected',\n",
    "})\n"
   ]
  },
  {
   "cell_type": "code",
   "execution_count": 9,
   "metadata": {
    "collapsed": false,
    "slideshow": {
     "slide_type": "skip"
    }
   },
   "outputs": [],
   "source": [
    "%matplotlib inline\n",
    "import matplotlib.pyplot as plt\n",
    "plt.xkcd()\n",
    "import seaborn as sns"
   ]
  },
  {
   "cell_type": "markdown",
   "metadata": {
    "slideshow": {
     "slide_type": "slide"
    }
   },
   "source": [
    "#Lecture 15. Low-rank methods and oscillations"
   ]
  },
  {
   "cell_type": "markdown",
   "metadata": {
    "slideshow": {
     "slide_type": "slide"
    }
   },
   "source": [
    "## Previous lecture \n",
    "- Boundary integral equations for Helmholtz equation\n",
    "- A word about multiscale\n",
    "- Fast direct solvers for sparse matrices\n"
   ]
  },
  {
   "cell_type": "markdown",
   "metadata": {
    "slideshow": {
     "slide_type": "slide"
    }
   },
   "source": [
    "## Todays lecture\n",
    "- Low-rank strikes back: butterfly & directional low-rank property\n",
    "- A few words about multiscale\n",
    "- High-dimensional problems and tensors(?)"
   ]
  },
  {
   "cell_type": "markdown",
   "metadata": {
    "slideshow": {
     "slide_type": "slide"
    }
   },
   "source": [
    "##Fourier transform\n",
    "**Fast Fourier Transform** relies on the uniform grid!\n",
    "\n",
    "$$g(x) = \\int_a^b e^{i x y} f(y) dy $$\n",
    "\n",
    "Then, the FFT is just\n",
    "\n",
    "$$g_k = \\sum_l w^{kl} f_l, \\quad w^n = 1.$$\n",
    "\n",
    "In fact, it should be FFFT (Fast Finite Fourier Transform), but FFT is better.\n",
    "\n",
    "**Quiz:** Can you find low-rank submatrices in the Fourier matrix?"
   ]
  },
  {
   "cell_type": "markdown",
   "metadata": {
    "slideshow": {
     "slide_type": "slide"
    }
   },
   "source": [
    "## Reading\n",
    "http://statweb.stanford.edu/~candes/papers/ButterflyFIO.pdf"
   ]
  },
  {
   "cell_type": "markdown",
   "metadata": {
    "slideshow": {
     "slide_type": "slide"
    }
   },
   "source": [
    "## Non-uniform case\n",
    "Consider the evaluation of **Fourier integral operators**\n",
    "\n",
    "$u(x) = \\sum_{k \\in \\Omega} e^{2 \\pi i \\Phi(x,k)} f(k), \\quad x \\in X,$\n",
    "\n",
    "where $\\Omega = \\{ -\\frac{N}{2} \\leq k_1, k_2 \\leq \\frac{N}{2} \\}$.\n",
    "\n",
    "Both $x$ and $k$ can be two (three) dimensional.\n",
    "\n",
    "In two dimensions with $n \\times n$ grid evaluation will take **$\\mathcal{O}(n^4)$**\n",
    "\n",
    "**Assumption**: $\\Phi(x, k)$ is smooth and homogenious, \n",
    "$\\Phi(x, \\lambda k) = \\lambda \\Phi(x, k)$\n",
    "\n",
    "For simplicity, consider 2D case."
   ]
  },
  {
   "cell_type": "markdown",
   "metadata": {
    "slideshow": {
     "slide_type": "slide"
    }
   },
   "source": [
    "## Step 1\n",
    "First step: represent frequency variables in polar coordinates\n",
    "\n",
    "$k = (k_1, k_2) = \\frac{1}{\\sqrt{2}} Nnp_1 e^{2 \\pi i p_2}, \\quad e^{2\n",
    "\\pi i  p_2} = (\\cos 2 \\pi i p_2, \\sin 2 \\pi i p_2)$\n",
    "\n",
    "This guarantees that each point $(p_1, p_2)$ belongs to the unit square $[0, 1]^2$.\n",
    "\n",
    "Due to homogenuity, \n",
    "$\\Phi(x, k) = N \\Psi(x, p)$\n"
   ]
  },
  {
   "cell_type": "markdown",
   "metadata": {
    "slideshow": {
     "slide_type": "slide"
    }
   },
   "source": [
    "## Step 2\n",
    "Consider two square boxes $A$ and $B$ in $[0, 1]^2$, centered at $x_0$\n",
    "and $p_0$, such that their side-lengths satisfy\n",
    "\n",
    "$w(A) w(B) \\leq \\frac{1}{n}$\n",
    "\n",
    "\n",
    "Introduce\n",
    "\n",
    "$R^{AB}(x, p) = \\Psi(x, p) - \\Psi(x_0(A), p) - \\Psi(x, p_0(B)) +\n",
    "\\Psi(x_0(A), p_0(B))$"
   ]
  },
  {
   "cell_type": "markdown",
   "metadata": {
    "slideshow": {
     "slide_type": "slide"
    }
   },
   "source": [
    "## Step 3\n",
    "Then, \n",
    "$\n",
    "e^{2 \\pi   i n \\Psi(x, p)} = e^{2 \\pi   i n \\Psi(x_0(A), p)} e^{2 \\pi   i n \\Psi(x, p_0(B))} \\cdot e^{-2 \\pi   i n \\Psi(x_0(A), p_0(B))} e^{2 \\pi   i n R^{AB}}\n",
    "$\n",
    "\n",
    "Applying mean-value theorem to $R^{AB}$ we get $R^{AB} = \\mathcal{O}(\\frac{1}{n})$\n",
    "\n",
    "It means, that the phase is **bounded**, thus can be approximated\n",
    "by low-rank"
   ]
  },
  {
   "cell_type": "markdown",
   "metadata": {
    "slideshow": {
     "slide_type": "slide"
    }
   },
   "source": [
    "## Butterfly algorithm\n",
    "\n",
    "We need blocks (boxes $A$ and $B$) such that $w(A) w(B) = \\frac{1}{N}$\n",
    "\n",
    "How can we do that?\n",
    "\n",
    "Compute interactions of **large boxes** with **small boxes**"
   ]
  },
  {
   "cell_type": "markdown",
   "metadata": {
    "slideshow": {
     "slide_type": "slide"
    }
   },
   "source": [
    "## Algorithm\n",
    "1. Compute two dyadic trees $T_X$, and $T_P$ (as usual)\n",
    "2. Initialization: Construct expansion coeficients $\\delta^{AB}_t$ for\n",
    "   root-leaf interaction\n",
    "3. Recursion: Visit level $l$ in $T_X$ and $L - l$ in $T_P$\n",
    "   We can recompute from parent of $A$ and all children of $B$ "
   ]
  },
  {
   "cell_type": "markdown",
   "metadata": {
    "slideshow": {
     "slide_type": "slide"
    }
   },
   "source": [
    "## Directional low-rank property\n",
    "Finally, what to do for the Helmholtz kernel?\n",
    "Let $G = \\exp(i k r)/r$.\n",
    "\n",
    "What to do?\n",
    "\n",
    "**Use directional low-rank property**"
   ]
  },
  {
   "cell_type": "markdown",
   "metadata": {
    "slideshow": {
     "slide_type": "slide"
    }
   },
   "source": [
    "## Directional low-rank property\n",
    "Let us scale the problem such that $k = 1$ **Important!!!**\n",
    "\n",
    "<img src=\"wedges.svg\">"
   ]
  },
  {
   "cell_type": "markdown",
   "metadata": {
    "slideshow": {
     "slide_type": "slide"
    }
   },
   "source": [
    "## The algorithm\n",
    "The final algorithm is equivalent to the adapted separation criteria."
   ]
  },
  {
   "cell_type": "markdown",
   "metadata": {
    "slideshow": {
     "slide_type": "slide"
    }
   },
   "source": [
    "## Summary\n",
    "Thank you.\n",
    "\n",
    "Questions & App Period!"
   ]
  },
  {
   "cell_type": "code",
   "execution_count": 4,
   "metadata": {
    "collapsed": false,
    "slideshow": {
     "slide_type": "skip"
    }
   },
   "outputs": [
    {
     "data": {
      "text/html": [
       "<link href='http://fonts.googleapis.com/css?family=Fenix' rel='stylesheet' type='text/css'>\n",
       "<link href='http://fonts.googleapis.com/css?family=Alegreya+Sans:100,300,400,500,700,800,900,100italic,300italic,400italic,500italic,700italic,800italic,900italic' rel='stylesheet' type='text/css'>\n",
       "<link href='http://fonts.googleapis.com/css?family=Source+Code+Pro:300,400' rel='stylesheet' type='text/css'>\n",
       "<style>\n",
       "    @font-face {\n",
       "        font-family: \"Computer Modern\";\n",
       "        src: url('http://mirrors.ctan.org/fonts/cm-unicode/fonts/otf/cmunss.otf');\n",
       "    }\n",
       "    div.cell{\n",
       "        /*width:80%;*/\n",
       "        /*margin-left:auto !important;\n",
       "        margin-right:auto;*/\n",
       "    }\n",
       "    h1 {\n",
       "        font-family: 'Alegreya Sans', sans-serif;\n",
       "    }\n",
       "    h2 {\n",
       "        font-family: 'Fenix', serif;\n",
       "    }\n",
       "    h3{\n",
       "\t\tfont-family: 'Fenix', serif;\n",
       "        margin-top:12px;\n",
       "        margin-bottom: 3px;\n",
       "       }\n",
       "\th4{\n",
       "\t\tfont-family: 'Fenix', serif;\n",
       "       }\n",
       "    h5 {\n",
       "        font-family: 'Alegreya Sans', sans-serif;\n",
       "    }\t   \n",
       "    div.text_cell_render{\n",
       "        font-family: 'Alegreya Sans',Computer Modern, \"Helvetica Neue\", Arial, Helvetica, Geneva, sans-serif;\n",
       "        line-height: 1.2;\n",
       "        font-size: 120%;\n",
       "        /*width:70%;*/\n",
       "        /*margin-left:auto;*/\n",
       "        margin-right:auto;\n",
       "    }\n",
       "    .CodeMirror{\n",
       "            font-family: \"Source Code Pro\";\n",
       "\t\t\tfont-size: 90%;\n",
       "    }\n",
       "/*    .prompt{\n",
       "        display: None;\n",
       "    }*/\n",
       "    .text_cell_render h1 {\n",
       "        font-weight: 200;\n",
       "        font-size: 50pt;\n",
       "\t\tline-height: 110%;\n",
       "        color:#CD2305;\n",
       "        margin-bottom: 0.5em;\n",
       "        margin-top: 0.5em;\n",
       "        display: block;\n",
       "    }\t\n",
       "    .text_cell_render h5 {\n",
       "        font-weight: 300;\n",
       "        font-size: 16pt;\n",
       "        color: #CD2305;\n",
       "        font-style: italic;\n",
       "        margin-bottom: .5em;\n",
       "        margin-top: 0.5em;\n",
       "        display: block;\n",
       "    }\n",
       "    \n",
       "    li {\n",
       "        line-height: 110%;\n",
       "    }\n",
       "    .warning{\n",
       "        color: rgb( 240, 20, 20 )\n",
       "        }  \n",
       "</style>\n",
       "<script>\n",
       "    MathJax.Hub.Config({\n",
       "                        TeX: {\n",
       "                           extensions: [\"AMSmath.js\"]\n",
       "                           },\n",
       "                tex2jax: {\n",
       "                    inlineMath: [ ['$','$'], [\"\\\\(\",\"\\\\)\"] ],\n",
       "                    displayMath: [ ['$$','$$'], [\"\\\\[\",\"\\\\]\"] ]\n",
       "                },\n",
       "                displayAlign: 'center', // Change this to 'center' to center equations.\n",
       "                \"HTML-CSS\": {\n",
       "                    styles: {'.MathJax_Display': {\"margin\": 4}}\n",
       "                }\n",
       "        });\n",
       "</script>\n"
      ],
      "text/plain": [
       "<IPython.core.display.HTML object>"
      ]
     },
     "execution_count": 4,
     "metadata": {},
     "output_type": "execute_result"
    }
   ],
   "source": [
    "from IPython.core.display import HTML\n",
    "def css_styling():\n",
    "    styles = open(\"./styles/custom.css\", \"r\").read()\n",
    "    return HTML(styles)\n",
    "css_styling()"
   ]
  }
 ],
 "metadata": {
  "celltoolbar": "Slideshow",
  "kernelspec": {
   "display_name": "Python 2",
   "language": "python",
   "name": "python2"
  },
  "language_info": {
   "codemirror_mode": {
    "name": "ipython",
    "version": 2
   },
   "file_extension": ".py",
   "mimetype": "text/x-python",
   "name": "python",
   "nbconvert_exporter": "python",
   "pygments_lexer": "ipython2",
   "version": "2.7.9"
  }
 },
 "nbformat": 4,
 "nbformat_minor": 0
}
