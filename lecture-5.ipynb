{
 "cells": [
  {
   "cell_type": "markdown",
   "metadata": {
    "slideshow": {
     "slide_type": "slide"
    }
   },
   "source": [
    "# Lecture 5: FEM, cont'd"
   ]
  },
  {
   "cell_type": "markdown",
   "metadata": {
    "slideshow": {
     "slide_type": "slide"
    }
   },
   "source": [
    "## Linear Elasticity\n",
    "\n",
    "* Consider a domain $\\Omega$ as shown here:\n",
    "<img src=\"fig/2Delastic_domain_ext.png\">\n",
    "We assume it is a piece of elastic material (similar to a beam) of this shape. Fixed at the left end and the force $P$ is applied to its right end.\n",
    "\n",
    "* Boundary:\n",
    "    - leftmost: $\\Gamma_1$\n",
    "    - rightmost: $\\Gamma_3$\n",
    "    - rest: $\\Gamma_2$\n",
    "* Displacement: $(u,v)$ (in the $x$ and $y$ coord)\n",
    "\n",
    "* Elasticity tensors:\n",
    "$$\n",
    "\\begin{align*}\n",
    "C_{11} &= \\begin{pmatrix}\n",
    "\\frac{E (1-\\nu)}{(1-2\\nu)(1+\\nu)} & 0 \\\\ 0 & \\frac{E}{2(1+\\nu)} \\end{pmatrix},\n",
    "&\\qquad\n",
    "C_{12} &= \\begin{pmatrix} 0 & \\frac{E \\nu}{(1-2\\nu)(1+\\nu)}  \\\\ \\frac{E}{2(1+\\nu)} & 0 \\end{pmatrix},\n",
    "\\\\\n",
    "C_{21} &= C_{12}^{\\rm T},\n",
    "&\\qquad\n",
    "C_{22} &= \\begin{pmatrix} \\frac{E}{2(1+\\nu)} & 0 \\\\ 0 & \\frac{E (1-\\nu)}{(1-2\\nu)(1+\\nu)} \\end{pmatrix}\n",
    "\\end{align*}\n",
    "$$\n",
    "Here $E$ is called the modulus of elasticity and $\\nu$ is called the Poisson ratio.\n",
    "(In fact, $C$ is a four-dimensional tensor, denoted by $C$, most likely, after Cauchy.)\n",
    "\n",
    "* Equations:\n",
    "$$\n",
    "\\begin{align*}\n",
    "-{\\rm div} (C_{11} \\nabla u + C_{12} \\nabla v) &= 0\n",
    "\\qquad\\text{in }\\Omega\n",
    "\\\\\n",
    "-{\\rm div} (C_{21} \\nabla u + C_{22} \\nabla v) &= 0\n",
    "\\qquad\\text{in }\\Omega\n",
    "\\\\\n",
    "u = v &= 0 \\qquad\\text{on }\\Gamma_1\n",
    "\\\\\n",
    "C_{11} u_n + C_{12} v_n = C_{21} u_n + C_{22} v_n &= 0 \\qquad\\text{on }\\Gamma_2\n",
    "\\\\\n",
    "C_{11} u_n + C_{12} v_n &= 0 \\qquad\\text{on }\\Gamma_3\n",
    "\\\\\n",
    "C_{21} u_n + C_{22} v_n &= \\frac{P}{H W} \\qquad\\text{on }\\Gamma_3,\n",
    "\\end{align*}\n",
    "$$\n",
    "where $u_n$ and $v_n$ are normal derivatives of the solution.\n",
    "\n",
    "* Variational formulation:\n",
    "    - test functions $p=p(x,y)$ and $q = q(x,y)$\n",
    "    - Dirichet BCs: $p=q=0$ on $\\Gamma_1$\n",
    "    - Variational form:\n",
    "$$\n",
    "\\int_{\\Omega} \\big[\n",
    "    (C_{11} \\nabla u + C_{12} \\nabla v)\\cdot \\nabla p\n",
    "    +\n",
    "    (C_{21} \\nabla u + C_{22} \\nabla v)\\cdot \\nabla q\n",
    "\\big]\n",
    "= \\frac{P}{H W}  \\int_{\\Gamma_3} q\n",
    "\\qquad\\forall p, q\n",
    "$$\n",
    "\n",
    "* A good way to go about this problem is to think that your space consists of vector-valued functions $(u,v)\\in\\mathbb R^2$. Thus, at each node you have two basis functions: such that $(u,v) = (1,0)$ for that node, and $(u,v) = (0,1)$ for that node."
   ]
  },
  {
   "cell_type": "markdown",
   "metadata": {
    "slideshow": {
     "slide_type": "slide"
    }
   },
   "source": [
    "## More advanced stuff"
   ]
  },
  {
   "cell_type": "markdown",
   "metadata": {
    "slideshow": {
     "slide_type": "slide"
    }
   },
   "source": [
    "### Error analysis\n",
    "\n",
    "* If $u$ is the exact solution and $u_h$ is the approximate solution then one can prove that\n",
    "$$\n",
    "\\|\\nabla u_h - \\nabla u\\|_{L^2}\n",
    "\\leq\n",
    "h \\|\\nabla^2 u\\|_{L^2},\n",
    "$$\n",
    "where $h$ is the **maximal** size of the triangle and $\\nabla^2 u$ is the <a href=\"http://en.wikipedia.org/wiki/Hessian_matrix\">Hessian matrix</a>.\n",
    "\n",
    "* Comes from a truly beautiful argument:\n",
    "    - One can show that $u_h$ is the minimizer of\n",
    "    $$\n",
    "    \\int \\nabla (v_h-u) \\cdot \\nabla (v_h-u) = \\|\\nabla v_h - \\nabla u\\|_{L^2}^2\n",
    "    $$\n",
    "    over all $v_h\\in \\mathcal P_1(\\mathcal T)$ (let's prove it).\n",
    "    - It remains to invoke a geometry-related argument that given $u$\n",
    "    there exists $v_h$ such that $\\|\\nabla v_h - \\nabla u\\| \\leq h \\|\\nabla^2 u\\|$.\n",
    "    This is achieved with, e.g., the Cl&eacute;ment interpotation (warning: google for that on your own risk!)\n",
    "    - **Exercise**: learn the difference in pronounciation between Clement and Cl&eacute;ment <img width=40 src=\"http://vignette2.wikia.nocookie.net/fallout/images/7/73/Trollface.png/revision/latest?cb=20120710173828\">\n",
    "    - Know <a href=\"https://www.linkedin.com/pub/cl%C3%A9ment-fortin/5/197/94a\">this guy</a>?\n"
   ]
  },
  {
   "cell_type": "markdown",
   "metadata": {
    "slideshow": {
     "slide_type": "slide"
    }
   },
   "source": [
    "### Mesh refinement / Adaptivity\n",
    "\n",
    "<img src=\"fig/borehole_degen.png\">\n",
    "\n",
    "<img src=\"fig/Lshape_refin.png\">\n",
    "\n",
    "* Often done through the a posteriori error estimate, e.g.,\n",
    "$$\n",
    "\\|\\nabla u_h - \\nabla u\\|^2 \\leq \\sum_{{\\rm edge}} h_{{\\rm edge}} \\Big[\\frac{\\nabla u_h}{h_{{\\rm edge}}}\\Big]^2_{{\\rm edge}}\n",
    "$$\n",
    "where $[\\bullet]_{\\rm edge}$ is the jump across the edge (recall that $\\nabla u_h$ is piecewise constant)"
   ]
  },
  {
   "cell_type": "markdown",
   "metadata": {
    "slideshow": {
     "slide_type": "slide"
    }
   },
   "source": [
    "### Mesh quality\n",
    "\n",
    "* Mesh should not have very sharp angles (otherwise the approximation will be bad)!\n",
    "\n",
    "<img src=\"fig/fig_mesh_quality.gif\">"
   ]
  },
  {
   "cell_type": "markdown",
   "metadata": {
    "slideshow": {
     "slide_type": "slide"
    }
   },
   "source": [
    "### Collocation\n",
    "\n",
    "* If we have non-constant coefficients, we use the quadrature rules\n",
    "$$\n",
    "\\int_T k(x,y) \\nabla u\\cdot\\nabla v\n",
    "\\approx \\sum_{i} w_i k(x_i,y_i) \\nabla u(x_i,y_i)\\cdot\\nabla v(x_i,y_i)\n",
    "$$\n",
    "\n",
    "* must be careful to take the quadrature rule of sufficiently high order"
   ]
  },
  {
   "cell_type": "markdown",
   "metadata": {
    "slideshow": {
     "slide_type": "slide"
    }
   },
   "source": [
    "### Quad(rilateral) elements:\n",
    "\n",
    "<img src=\"fig/FEM_quad_basis.png\">"
   ]
  },
  {
   "cell_type": "markdown",
   "metadata": {
    "slideshow": {
     "slide_type": "slide"
    }
   },
   "source": [
    "### High-order elements\n",
    "\n",
    "* $\\mathcal P^p(\\mathcal T)$: polynomials of power $p$\n",
    "* $hp$-refinement\n",
    "\n",
    "A good source for these is <BR>\n",
    "C. Schwab, \"p- and hp- Finite Element Methods: Theory and Applications to Solid and Fluid Mechanics\", Clarendon Press, 1998."
   ]
  },
  {
   "cell_type": "markdown",
   "metadata": {
    "slideshow": {
     "slide_type": "slide"
    }
   },
   "source": [
    "### More stuff:\n",
    "\n",
    "* Discontinous Galerkin, $\\mathcal P^0$ elements\n",
    "* Other bases: <a href=\"http://www.ams.org/journals/mcom/2001-70-233/S0025-5718-00-01252-7/S0025-5718-00-01252-7.pdf\">wavelets</a>, radial basis functions\n",
    "* mixed FEM, generalized FEM, extended FEM, what-not FEM..."
   ]
  },
  {
   "cell_type": "markdown",
   "metadata": {
    "slideshow": {
     "slide_type": "slide"
    }
   },
   "source": [
    "## Adv/Disadv of FEM\n",
    "\n",
    "* Good for simple physics, solid mechanics\n",
    "* Good energy (and other) conservation properties\n",
    "\n",
    "But...\n",
    "\n",
    "* Not easy for fluid flow (must work hard for stability)\n",
    "* sometimes non-monotonicity"
   ]
  },
  {
   "cell_type": "markdown",
   "metadata": {
    "slideshow": {
     "slide_type": "slide"
    }
   },
   "source": [
    "##### Questions?\n"
   ]
  },
  {
   "cell_type": "code",
   "execution_count": 1,
   "metadata": {
    "collapsed": false,
    "run_control": {
     "read_only": false
    },
    "slideshow": {
     "slide_type": "skip"
    }
   },
   "outputs": [
    {
     "data": {
      "text/html": [
       "<link href='http://fonts.googleapis.com/css?family=Fenix' rel='stylesheet' type='text/css'>\n",
       "<link href='http://fonts.googleapis.com/css?family=Alegreya+Sans:100,300,400,500,700,800,900,100italic,300italic,400italic,500italic,700italic,800italic,900italic' rel='stylesheet' type='text/css'>\n",
       "<link href='http://fonts.googleapis.com/css?family=Source+Code+Pro:300,400' rel='stylesheet' type='text/css'>\n",
       "<style>\n",
       "    @font-face {\n",
       "        font-family: \"Computer Modern\";\n",
       "        src: url('http://mirrors.ctan.org/fonts/cm-unicode/fonts/otf/cmunss.otf');\n",
       "    }\n",
       "    div.cell{\n",
       "        /*width:80%;*/\n",
       "        /*margin-left:auto !important;\n",
       "        margin-right:auto;*/\n",
       "    }\n",
       "    h1 {\n",
       "        font-family: 'Alegreya Sans', sans-serif;\n",
       "    }\n",
       "    h2 {\n",
       "        font-family: 'Fenix', serif;\n",
       "    }\n",
       "    h3{\n",
       "\t\tfont-family: 'Fenix', serif;\n",
       "        margin-top:12px;\n",
       "        margin-bottom: 3px;\n",
       "       }\n",
       "\th4{\n",
       "\t\tfont-family: 'Fenix', serif;\n",
       "       }\n",
       "    h5 {\n",
       "        font-family: 'Alegreya Sans', sans-serif;\n",
       "    }\t   \n",
       "    div.text_cell_render{\n",
       "        font-family: 'Alegreya Sans',Computer Modern, \"Helvetica Neue\", Arial, Helvetica, Geneva, sans-serif;\n",
       "        line-height: 1.2;\n",
       "        font-size: 100%;\n",
       "        /*width:70%;*/\n",
       "        /*margin-left:auto;*/\n",
       "        margin-right:auto;\n",
       "    }\n",
       "    .CodeMirror{\n",
       "            font-family: \"Source Code Pro\";\n",
       "\t\t\tfont-size: 100%;\n",
       "\t\t\tline-height: 110%;\n",
       "    }\n",
       "/*    .prompt{\n",
       "        display: None;\n",
       "    }*/\n",
       "    .text_cell_render h1 {\n",
       "        font-weight: 200;\n",
       "        font-size: 50pt;\n",
       "\t\tline-height: 110%;\n",
       "        color:#CD2305;\n",
       "        margin-bottom: 0.5em;\n",
       "        margin-top: 0.5em;\n",
       "        display: block;\n",
       "    }\t\n",
       "    .text_cell_render h5 {\n",
       "        font-weight: 300;\n",
       "        font-size: 16pt;\n",
       "        color: #CD2305;\n",
       "        font-style: italic;\n",
       "        margin-bottom: .5em;\n",
       "        margin-top: 0.5em;\n",
       "        display: block;\n",
       "    }\n",
       "    \n",
       "    li {\n",
       "        line-height: 110%;\n",
       "    }\n",
       "    .warning{\n",
       "        color: rgb( 240, 20, 20 )\n",
       "        }  \n",
       "</style>\n",
       "<script>\n",
       "    MathJax.Hub.Config({\n",
       "                        TeX: {\n",
       "                           extensions: [\"AMSmath.js\"]\n",
       "                           },\n",
       "                tex2jax: {\n",
       "                    inlineMath: [ ['$','$'], [\"\\\\(\",\"\\\\)\"] ],\n",
       "                    displayMath: [ ['$$','$$'], [\"\\\\[\",\"\\\\]\"] ]\n",
       "                },\n",
       "                displayAlign: 'center', // Change this to 'center' to center equations.\n",
       "                \"HTML-CSS\": {\n",
       "                    styles: {'.MathJax_Display': {\"margin\": 4}}\n",
       "                }\n",
       "        });\n",
       "</script>\n"
      ],
      "text/plain": [
       "<IPython.core.display.HTML object>"
      ]
     },
     "execution_count": 1,
     "metadata": {},
     "output_type": "execute_result"
    }
   ],
   "source": [
    "from IPython.core.display import HTML\n",
    "def css_styling():\n",
    "    styles = open(\"./styles/alex.css\", \"r\").read()\n",
    "    return HTML(styles)\n",
    "css_styling()\n",
    "\n"
   ]
  },
  {
   "cell_type": "code",
   "execution_count": null,
   "metadata": {
    "collapsed": true
   },
   "outputs": [],
   "source": []
  }
 ],
 "metadata": {
  "celltoolbar": "Slideshow",
  "kernelspec": {
   "display_name": "Python 2",
   "language": "python",
   "name": "python2"
  },
  "language_info": {
   "codemirror_mode": {
    "name": "ipython",
    "version": 2
   },
   "file_extension": ".py",
   "mimetype": "text/x-python",
   "name": "python",
   "nbconvert_exporter": "python",
   "pygments_lexer": "ipython2",
   "version": "2.7.8"
  }
 },
 "nbformat": 4,
 "nbformat_minor": 0
}
